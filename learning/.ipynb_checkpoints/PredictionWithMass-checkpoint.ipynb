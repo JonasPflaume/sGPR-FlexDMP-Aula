{
 "cells": [
  {
   "cell_type": "code",
   "execution_count": 1,
   "metadata": {},
   "outputs": [],
   "source": [
    "import numpy as np\n",
    "import sys, os, h5py, re\n",
    "import matplotlib.pyplot as plt\n",
    "from learning_utils import prepare_data_flexdmp, calc_loss_flexdmp\n",
    "from check_dyn import plot_res"
   ]
  },
  {
   "cell_type": "code",
   "execution_count": 2,
   "metadata": {},
   "outputs": [],
   "source": [
    "# just for dyna error calc\n",
    "from casadi_kinodynamics.utils import symbolic_robot\n",
    "\n",
    "sym_robot = symbolic_robot.symbolic_robot(robot_name='IRB910_2r', tool_mass=0.0,\n",
    "                                                tool_frame=[0., 0., 0.3, 0., 0., 0.], load_casadi_fnc=False)"
   ]
  },
  {
   "cell_type": "code",
   "execution_count": 3,
   "metadata": {},
   "outputs": [],
   "source": [
    "from trajencoder.flexdmp.flexdmp import FlexDMP\n",
    "from algpr.kernels import RBF\n",
    "from algpr.gpr import GaussianProcessRegressor\n",
    "from algpr.ppgpr import PPGPR\n",
    "from glob import glob\n",
    "DMP_ORDER = 20"
   ]
  },
  {
   "cell_type": "code",
   "execution_count": 4,
   "metadata": {},
   "outputs": [],
   "source": [
    "Xv, Yv, Trueth, qd_trueth, qdd_trueth = prepare_data_flexdmp(\"../data/WithLoad/validating.hdf5\", FlexDMP, DMP_ORDER=DMP_ORDER,\\\n",
    "                                                             return_dyddy=True, end_mass=True)"
   ]
  },
  {
   "cell_type": "code",
   "execution_count": 5,
   "metadata": {},
   "outputs": [],
   "source": [
    "pred = Yv"
   ]
  },
  {
   "cell_type": "code",
   "execution_count": 6,
   "metadata": {},
   "outputs": [
    {
     "name": "stdout",
     "output_type": "stream",
     "text": [
      "The rate of dyna violation:  61.0 %\n",
      "The peak dyna violation:  [6.52461084 0.        ]\n",
      "Peak dyna violation occurs at:  [309.   0.]\n",
      "0.0 0.04187942893829542 0.1252520757163481\n"
     ]
    }
   ],
   "source": [
    "error_time, error_target_q, error_dyn_loss, dyna_info = calc_loss_flexdmp(pred, Xv, Yv, Trueth, DMP_ORDER, \\\n",
    "                 return_dyn_loss=True, return_dyn_info=True)\n",
    "print(error_time, error_target_q, error_dyn_loss)"
   ]
  },
  {
   "cell_type": "code",
   "execution_count": null,
   "metadata": {},
   "outputs": [],
   "source": []
  },
  {
   "cell_type": "code",
   "execution_count": 18,
   "metadata": {},
   "outputs": [],
   "source": [
    "training_data_root = glob(\"../data/WithLoad/training*[!backoff].hdf5\")"
   ]
  },
  {
   "cell_type": "code",
   "execution_count": 18,
   "metadata": {},
   "outputs": [],
   "source": [
    "training_data_root = glob(\"../data/WithLoad/training*_backoff.hdf5\")"
   ]
  },
  {
   "cell_type": "code",
   "execution_count": 5,
   "metadata": {},
   "outputs": [],
   "source": [
    "training_data_root = glob(\"../data/WithLoad/training*_backoff17.hdf5\")"
   ]
  },
  {
   "cell_type": "code",
   "execution_count": 19,
   "metadata": {},
   "outputs": [
    {
     "name": "stdout",
     "output_type": "stream",
     "text": [
      "CPU times: user 2min 51s, sys: 1.37 s, total: 2min 53s\n",
      "Wall time: 2min 54s\n"
     ]
    }
   ],
   "source": [
    "%%time\n",
    "X, Y = [], []\n",
    "for path in training_data_root:\n",
    "    Xi, Yi, _ = prepare_data_flexdmp(path, FlexDMP, DMP_ORDER=DMP_ORDER, end_mass=True)\n",
    "    X.append(Xi)\n",
    "    Y.append(Yi)\n",
    "X, Y = np.concatenate(X, axis=0), np.concatenate(Y, axis=0)"
   ]
  },
  {
   "cell_type": "code",
   "execution_count": 20,
   "metadata": {},
   "outputs": [
    {
     "data": {
      "text/plain": [
       "(81536, 5)"
      ]
     },
     "execution_count": 20,
     "metadata": {},
     "output_type": "execute_result"
    }
   ],
   "source": [
    "X.shape"
   ]
  },
  {
   "cell_type": "markdown",
   "metadata": {},
   "source": [
    "## Full GPR with random sample"
   ]
  },
  {
   "cell_type": "code",
   "execution_count": 8,
   "metadata": {},
   "outputs": [],
   "source": [
    "sample_index = np.arange(0,len(X))\n",
    "sample_index = np.random.choice(sample_index, 10000, replace=False)\n",
    "X_sample, Y_sample = X[sample_index], Y[sample_index]"
   ]
  },
  {
   "cell_type": "code",
   "execution_count": 9,
   "metadata": {},
   "outputs": [
    {
     "name": "stdout",
     "output_type": "stream",
     "text": [
      "The evidence is:  -2715681988672878.0\n"
     ]
    },
    {
     "data": {
      "text/plain": [
       "-2715681988672878.0"
      ]
     },
     "execution_count": 9,
     "metadata": {},
     "output_type": "execute_result"
    }
   ],
   "source": [
    "gpr = GaussianProcessRegressor(kernel=RBF(l=np.array([1.8]*5), anisotropic=True))\n",
    "gpr.fit(X_sample, Y_sample)"
   ]
  },
  {
   "cell_type": "code",
   "execution_count": 10,
   "metadata": {},
   "outputs": [
    {
     "name": "stdout",
     "output_type": "stream",
     "text": [
      "CPU times: user 3.09 s, sys: 7.09 s, total: 10.2 s\n",
      "Wall time: 1.27 s\n"
     ]
    }
   ],
   "source": [
    "%%time\n",
    "for _ in range(10):\n",
    "    pred = gpr.predict(Xv)"
   ]
  },
  {
   "cell_type": "code",
   "execution_count": 11,
   "metadata": {},
   "outputs": [
    {
     "name": "stdout",
     "output_type": "stream",
     "text": [
      "The rate of dyna violation:  12.5 %\n",
      "The peak dyna violation:  [74.80643658  0.        ]\n",
      "Peak dyna violation occurs at:  [388.   0.]\n",
      "0.019569999999999987 0.09793178306172443 0.16557152968554878\n"
     ]
    }
   ],
   "source": [
    "error_time, error_target_q, error_dyn_loss, dyna_info = calc_loss_flexdmp(pred, Xv, Yv, Trueth, DMP_ORDER, \\\n",
    "                 return_dyn_loss=True, return_dyn_info=True)\n",
    "print(error_time, error_target_q, error_dyn_loss)"
   ]
  },
  {
   "cell_type": "code",
   "execution_count": 13,
   "metadata": {},
   "outputs": [
    {
     "data": {
      "text/plain": [
       "2.508653984085708"
      ]
     },
     "execution_count": 13,
     "metadata": {},
     "output_type": "execute_result"
    }
   ],
   "source": [
    "# suboptimality\n",
    "suboptimality = (pred[:,-1] - Yv[:,-1]).sum() / Yv[:,-1].sum()\n",
    "# print('Subopt: {:.2f}'.format(suboptimality*100))\n",
    "suboptimality * 100"
   ]
  },
  {
   "cell_type": "markdown",
   "metadata": {},
   "source": [
    "The rate of dyna violation:  57.49999999999999 %  \n",
    "The peak dyna violation:  [143.86973349   3.95647664]  \n",
    "Peak dyna violation occurs at:  [111. 391.]  \n",
    "0.009920000000000007 0.05756379409805197 0.5281403209469206"
   ]
  },
  {
   "cell_type": "markdown",
   "metadata": {},
   "source": [
    "## PP-GPR"
   ]
  },
  {
   "cell_type": "code",
   "execution_count": 14,
   "metadata": {},
   "outputs": [],
   "source": [
    "ppgpr = PPGPR(kernel=RBF(l=np.array([1.8]*5), anisotropic=True))\n",
    "ppgpr.fit(X, Y, m=5000)"
   ]
  },
  {
   "cell_type": "code",
   "execution_count": 15,
   "metadata": {},
   "outputs": [
    {
     "name": "stdout",
     "output_type": "stream",
     "text": [
      "CPU times: user 1.8 s, sys: 4.53 s, total: 6.33 s\n",
      "Wall time: 600 ms\n"
     ]
    }
   ],
   "source": [
    "%%time\n",
    "for _ in range(10):\n",
    "    pred = ppgpr.predict(Xv)"
   ]
  },
  {
   "cell_type": "code",
   "execution_count": 16,
   "metadata": {},
   "outputs": [
    {
     "name": "stdout",
     "output_type": "stream",
     "text": [
      "The rate of dyna violation:  0.0 %\n",
      "The peak dyna violation:  [0. 0.]\n",
      "Peak dyna violation occurs at:  [0. 0.]\n",
      "0.01607 0.09162078382018418 0.0\n"
     ]
    }
   ],
   "source": [
    "error_time, error_target_q, error_dyn_loss, dyna_info = calc_loss_flexdmp(pred, Xv, Yv, Trueth, DMP_ORDER, \\\n",
    "                 return_dyn_loss=True, return_dyn_info=True)\n",
    "print(error_time, error_target_q, error_dyn_loss)"
   ]
  },
  {
   "cell_type": "code",
   "execution_count": 17,
   "metadata": {},
   "outputs": [
    {
     "data": {
      "text/plain": [
       "2.3298947903442824"
      ]
     },
     "execution_count": 17,
     "metadata": {},
     "output_type": "execute_result"
    }
   ],
   "source": [
    "# suboptimality\n",
    "suboptimality = (pred[:,-1] - Yv[:,-1]).sum() / Yv[:,-1].sum()\n",
    "# print('Subopt: {:.2f}'.format(suboptimality*100))\n",
    "suboptimality * 100"
   ]
  },
  {
   "cell_type": "markdown",
   "metadata": {},
   "source": [
    "The rate of dyna violation:  60.0 %  \n",
    "The peak dyna violation:  [12.13908725  0.        ]  \n",
    "Peak dyna violation occurs at:  [126.   0.]  \n",
    "0.0031500000000000026 0.044353611229823516 0.20313834457090763"
   ]
  },
  {
   "cell_type": "code",
   "execution_count": null,
   "metadata": {},
   "outputs": [],
   "source": []
  },
  {
   "cell_type": "code",
   "execution_count": 65,
   "metadata": {},
   "outputs": [
    {
     "name": "stderr",
     "output_type": "stream",
     "text": [
      "\n",
      "KeyboardInterrupt\n",
      "\n"
     ]
    },
    {
     "name": "stdout",
     "output_type": "stream",
     "text": [
      "Error in callback <function flush_figures at 0x7f28cdf63d30> (for post_execute):\n"
     ]
    },
    {
     "name": "stderr",
     "output_type": "stream",
     "text": [
      "\n",
      "KeyboardInterrupt\n",
      "\n"
     ]
    }
   ],
   "source": [
    "for index in range(0, 400):\n",
    "    plot_res(sym_robot.q_max, sym_robot.q_min, sym_robot.qd_max, sym_robot.qdd_max,\\\n",
    "                 index, pred, Xv, Yv, Trueth, qd_trueth, qdd_trueth, dmp3=FlexDMP, DMP_ORDER=DMP_ORDER)"
   ]
  }
 ],
 "metadata": {
  "kernelspec": {
   "display_name": "abb",
   "language": "python",
   "name": "abb"
  },
  "language_info": {
   "codemirror_mode": {
    "name": "ipython",
    "version": 3
   },
   "file_extension": ".py",
   "mimetype": "text/x-python",
   "name": "python",
   "nbconvert_exporter": "python",
   "pygments_lexer": "ipython3",
   "version": "3.9.11"
  }
 },
 "nbformat": 4,
 "nbformat_minor": 4
}
