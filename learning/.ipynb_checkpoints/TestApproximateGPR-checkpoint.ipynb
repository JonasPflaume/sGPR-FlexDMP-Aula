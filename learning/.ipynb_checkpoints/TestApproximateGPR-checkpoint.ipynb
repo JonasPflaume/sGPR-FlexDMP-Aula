{
 "cells": [
  {
   "cell_type": "code",
   "execution_count": 1,
   "metadata": {},
   "outputs": [],
   "source": [
    "import numpy as np\n",
    "import sys, os, h5py, re\n",
    "import matplotlib.pyplot as plt\n",
    "from learning_utils import prepare_data_via, calc_loss_spl_via, spline_reconstruct_via, prepare_data_flexdmp, calc_loss_flexdmp, flexdmp_reconstruct\n",
    "from check_dyn import plot_res\n",
    "\n",
    "from trajencoder.bspline.bspline import CubicSpline, Order5Spline, QuinticSpline, Order7spline, Order8spline\n",
    "from trajencoder.flexdmp.flexdmp import FlexDMP\n",
    "from algpr.gpr import GaussianProcessRegressor\n",
    "from algpr.gpoegpr import GpoeGPR\n",
    "from algpr.kernels import RBF\n",
    "from algpr.ppgpr import PPGPR"
   ]
  },
  {
   "cell_type": "code",
   "execution_count": 2,
   "metadata": {},
   "outputs": [],
   "source": [
    "# just for dyna error calc\n",
    "from casadi_kinodynamics.utils import symbolic_robot\n",
    "sym_robot = symbolic_robot.symbolic_robot(robot_name='IRB910_2r', tool_mass=0.0,\n",
    "                                                tool_frame=[0., 0., 0.3, 0., 0., 0.], load_casadi_fnc=False)\n",
    "\n",
    "DMP_ORDER = 15"
   ]
  },
  {
   "cell_type": "code",
   "execution_count": 3,
   "metadata": {},
   "outputs": [],
   "source": [
    "Xv, Yv, Trueth, qd_trueth, qdd_trueth = prepare_data_flexdmp(\"../data/validating_jerk.hdf5\", FlexDMP, DMP_ORDER=DMP_ORDER, return_dyddy=True)\n",
    "X, Y, _ = prepare_data_flexdmp(\"../data/training_jerk.hdf5\", FlexDMP, DMP_ORDER=DMP_ORDER)"
   ]
  },
  {
   "cell_type": "code",
   "execution_count": 4,
   "metadata": {},
   "outputs": [
    {
     "name": "stdout",
     "output_type": "stream",
     "text": [
      "The evidence is:  -1.5795567940842598e+19\n",
      "The rate of dyna violation:  14.75 %\n",
      "The peak dyna violation:  [7.01486556 0.        ]\n",
      "Peak dyna violation occurs at:  [119.   0.]\n"
     ]
    }
   ],
   "source": [
    "gpr = GaussianProcessRegressor(kernel=RBF(l=np.array([1.9]*4), anisotropic=True))\n",
    "gpr.fit(X, Y)\n",
    "pred = gpr.predict(Xv)\n",
    "error_time_full, error_target_q_full, error_dyn_loss_full, dyna_info = calc_loss_flexdmp(pred, Xv, Yv, Trueth, DMP_ORDER, \\\n",
    "                 return_dyn_loss=True, return_dyn_info=True, tau_func=sym_robot.ck.get_inverse_dynamics_rnea(), tau_max=sym_robot.tau_max)\n",
    "vio_peak_full = dyna_info['vio_peak']"
   ]
  },
  {
   "cell_type": "code",
   "execution_count": 8,
   "metadata": {},
   "outputs": [
    {
     "data": {
      "text/plain": [
       "0.034098289057586675"
      ]
     },
     "execution_count": 8,
     "metadata": {},
     "output_type": "execute_result"
    }
   ],
   "source": [
    "error_target_q_full"
   ]
  },
  {
   "cell_type": "code",
   "execution_count": 9,
   "metadata": {},
   "outputs": [],
   "source": [
    "def test_gpr_given_m(GPR, X, Y, Xv, Yv):\n",
    "    \n",
    "    time_loss_l, shape_loss_l, peak_loss_l = [], [], []\n",
    "    m_l = np.arange(10, len(X)//2, 100)\n",
    "    for m in m_l:\n",
    "        gpr = PPGPR(kernel=RBF(l=np.array([1.9]*4), anisotropic=True))\n",
    "        gpr.fit(X, Y, m=m)\n",
    "        pred = gpr.predict(Xv)\n",
    "\n",
    "        error_time, error_target_q, error_dyn_loss, dyna_info = calc_loss_flexdmp(pred, Xv, Yv, Trueth, DMP_ORDER, \\\n",
    "                     return_dyn_loss=True, return_dyn_info=True, tau_func=sym_robot.ck.get_inverse_dynamics_rnea(), tau_max=sym_robot.tau_max)\n",
    "        time_loss_l.append(error_time)\n",
    "        shape_loss_l.append(error_target_q)\n",
    "        peak_loss_l.append(dyna_info['vio_peak'])\n",
    "        \n",
    "    return time_loss_l, shape_loss_l, peak_loss_l"
   ]
  },
  {
   "cell_type": "code",
   "execution_count": 10,
   "metadata": {
    "scrolled": true
   },
   "outputs": [
    {
     "name": "stdout",
     "output_type": "stream",
     "text": [
      "The rate of dyna violation:  27.250000000000004 %\n",
      "The peak dyna violation:  [79.71927901  0.        ]\n",
      "Peak dyna violation occurs at:  [116.   0.]\n",
      "The rate of dyna violation:  23.5 %\n",
      "The peak dyna violation:  [12.93440174  0.        ]\n",
      "Peak dyna violation occurs at:  [64.  0.]\n",
      "The rate of dyna violation:  19.5 %\n",
      "The peak dyna violation:  [11.15631864  0.        ]\n",
      "Peak dyna violation occurs at:  [47.  0.]\n",
      "The rate of dyna violation:  21.5 %\n",
      "The peak dyna violation:  [19.7085981  0.       ]\n",
      "Peak dyna violation occurs at:  [30.  0.]\n",
      "The rate of dyna violation:  20.5 %\n",
      "The peak dyna violation:  [10.67504433  0.        ]\n",
      "Peak dyna violation occurs at:  [31.  0.]\n",
      "The rate of dyna violation:  17.75 %\n",
      "The peak dyna violation:  [9.59094625 0.        ]\n",
      "Peak dyna violation occurs at:  [31.  0.]\n",
      "The rate of dyna violation:  18.5 %\n",
      "The peak dyna violation:  [6.74432019 0.        ]\n",
      "Peak dyna violation occurs at:  [43.  0.]\n",
      "The rate of dyna violation:  17.0 %\n",
      "The peak dyna violation:  [6.78719234 0.        ]\n",
      "Peak dyna violation occurs at:  [126.   0.]\n",
      "The rate of dyna violation:  17.25 %\n",
      "The peak dyna violation:  [6.7644785 0.       ]\n",
      "Peak dyna violation occurs at:  [127.   0.]\n",
      "The rate of dyna violation:  16.0 %\n",
      "The peak dyna violation:  [7.46696874 0.        ]\n",
      "Peak dyna violation occurs at:  [127.   0.]\n",
      "The rate of dyna violation:  15.25 %\n",
      "The peak dyna violation:  [7.51718938 0.        ]\n",
      "Peak dyna violation occurs at:  [123.   0.]\n",
      "The rate of dyna violation:  17.0 %\n",
      "The peak dyna violation:  [7.6150916 0.       ]\n",
      "Peak dyna violation occurs at:  [127.   0.]\n",
      "The rate of dyna violation:  16.5 %\n",
      "The peak dyna violation:  [7.38710691 0.        ]\n",
      "Peak dyna violation occurs at:  [94.  0.]\n",
      "The rate of dyna violation:  16.75 %\n",
      "The peak dyna violation:  [6.52277122 0.        ]\n",
      "Peak dyna violation occurs at:  [127.   0.]\n",
      "The rate of dyna violation:  16.75 %\n",
      "The peak dyna violation:  [5.9541019 0.       ]\n",
      "Peak dyna violation occurs at:  [111.   0.]\n",
      "The rate of dyna violation:  17.25 %\n",
      "The peak dyna violation:  [5.97940612 0.        ]\n",
      "Peak dyna violation occurs at:  [127.   0.]\n"
     ]
    }
   ],
   "source": [
    "tll, sll, pll = test_gpr_given_m(gpr, X, Y, Xv, Yv)"
   ]
  },
  {
   "cell_type": "code",
   "execution_count": 27,
   "metadata": {},
   "outputs": [
    {
     "data": {
      "image/png": "[encoded data removed]",
      "text/plain": [
       "<Figure size 432x720 with 3 Axes>"
      ]
     },
     "metadata": {
      "needs_background": "light"
     },
     "output_type": "display_data"
    }
   ],
   "source": [
    "scale = np.arange(10, len(X)//2, 100)\n",
    "plt.figure(figsize=[6,10])\n",
    "plt.subplot(311)\n",
    "plt.grid()\n",
    "plt.plot(scale, tll, '-c')\n",
    "plt.plot(scale, np.ones_like(scale)*error_time_full, '-.r')\n",
    "plt.subplot(312)\n",
    "plt.grid()\n",
    "plt.plot(scale, sll, '-c')\n",
    "plt.plot(scale, np.ones_like(scale)*error_target_q_full, '-.r')\n",
    "plt.subplot(313)\n",
    "plt.grid()\n",
    "plt.plot(scale, pll, '-c')\n",
    "plt.plot(scale, np.ones_like(scale)[:, np.newaxis]*vio_peak_full, '-.r')\n",
    "plt.show()"
   ]
  },
  {
   "cell_type": "code",
   "execution_count": 20,
   "metadata": {},
   "outputs": [
    {
     "name": "stdout",
     "output_type": "stream",
     "text": [
      "Approximate GPR  6.25  faster\n"
     ]
    }
   ],
   "source": [
    "print(\"Approximate GPR \", 3000 ** 3 / (3000 * 1200 * 1200), \" faster\")"
   ]
  },
  {
   "cell_type": "code",
   "execution_count": null,
   "metadata": {},
   "outputs": [],
   "source": [
    "tau_func = sym_robot.ck.get_inverse_dynamics_rnea()\n",
    "\n",
    "for index in range(0, 500):\n",
    "    plot_res(tau_func, sym_robot.tau_max, sym_robot.q_max, sym_robot.q_min, sym_robot.qd_max, sym_robot.qdd_max,\\\n",
    "                 index, pred, X, Y, TTrueth, Tqd_trueth, Tqdd_trueth, dmp3=FlexDMP, DMP_ORDER=DMP_ORDER)"
   ]
  }
 ],
 "metadata": {
  "kernelspec": {
   "display_name": "abb",
   "language": "python",
   "name": "abb"
  },
  "language_info": {
   "codemirror_mode": {
    "name": "ipython",
    "version": 3
   },
   "file_extension": ".py",
   "mimetype": "text/x-python",
   "name": "python",
   "nbconvert_exporter": "python",
   "pygments_lexer": "ipython3",
   "version": "3.9.11"
  }
 },
 "nbformat": 4,
 "nbformat_minor": 4
}
