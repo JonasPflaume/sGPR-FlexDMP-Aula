{
 "cells": [
  {
   "cell_type": "code",
   "execution_count": 18,
   "metadata": {},
   "outputs": [],
   "source": [
    "import numpy as np\n",
    "import sys, os, h5py, re\n",
    "sys.path.append('..')\n",
    "from TrajEncoder.dmp.dmp import DMP\n",
    "import matplotlib.pyplot as plt\n",
    "from learning_utils import prepare_data, DMP_reconstruct, calc_loss"
   ]
  },
  {
   "cell_type": "code",
   "execution_count": 19,
   "metadata": {},
   "outputs": [],
   "source": [
    "import torch as th\n",
    "from torch.optim import Adam\n",
    "from network import MLP, setParams\n",
    "import matplotlib.pyplot as plt\n",
    "from tqdm import tqdm\n",
    "\n",
    "device = th.device('cuda' if th.cuda.is_available() else 'cpu')"
   ]
  },
  {
   "cell_type": "code",
   "execution_count": 27,
   "metadata": {},
   "outputs": [
    {
     "data": {
      "text/plain": [
       "torch.Size([3136, 4])"
      ]
     },
     "execution_count": 27,
     "metadata": {},
     "output_type": "execute_result"
    }
   ],
   "source": [
    "DMP_ORDER = 25\n",
    "X, Y, _ = prepare_data(\"../data/training/2-dof-no-velocity/training_DMP25_D8.hdf5\")\n",
    "X, Y = th.from_numpy(X).float().to(device), th.from_numpy(Y).float().to(device)\n",
    "\n",
    "Xv, Yv, Trueth = prepare_data(\"../data/testing/2-dof-no-velocity/validating_DMP25_D4.hdf5\")\n",
    "Xv, Yv = th.from_numpy(Xv).float().to(device), th.from_numpy(Yv).float().to(device)\n",
    "X.shape"
   ]
  },
  {
   "cell_type": "code",
   "execution_count": 21,
   "metadata": {},
   "outputs": [],
   "source": [
    "net = MLP(4, 51).to(device)\n",
    "optimizer = Adam(setParams(net, 1e-4), lr = 5e-4)\n",
    "MSE = th.nn.MSELoss()"
   ]
  },
  {
   "cell_type": "code",
   "execution_count": 28,
   "metadata": {},
   "outputs": [
    {
     "name": "stderr",
     "output_type": "stream",
     "text": [
      "100%|██████████| 10000/10000 [13:17<00:00, 12.55it/s]\n"
     ]
    }
   ],
   "source": [
    "n_epochs = 10000\n",
    "batch_size = 64\n",
    "val = []\n",
    "train = []\n",
    "\n",
    "for epoch in tqdm(range(n_epochs)):\n",
    "    permutation = th.randperm(X.size()[0])\n",
    "    train_loss = 0.\n",
    "    vali_loss = 0.\n",
    "    epo_length = len(list(range(0, X.size()[0], batch_size)))\n",
    "    for i in range(0, X.size()[0], batch_size):\n",
    "        optimizer.zero_grad()\n",
    "        indices = permutation[i:i+batch_size]\n",
    "        batch_x, batch_y = X[indices], Y[indices]\n",
    "        outputs = net(batch_x)\n",
    "        loss = MSE(outputs, batch_y)\n",
    "        loss.backward()\n",
    "        optimizer.step()\n",
    "        train_loss += loss.item()\n",
    "    with th.no_grad():\n",
    "        net.eval()\n",
    "        pred = net(Xv)\n",
    "        vali_loss = MSE(pred, Yv)\n",
    "        net.train()\n",
    "    val.append(vali_loss)\n",
    "    train.append(train_loss/epo_length)"
   ]
  },
  {
   "cell_type": "code",
   "execution_count": 29,
   "metadata": {},
   "outputs": [
    {
     "data": {
      "text/plain": [
       "[<matplotlib.lines.Line2D at 0x7f73d80935f8>]"
      ]
     },
     "execution_count": 29,
     "metadata": {},
     "output_type": "execute_result"
    },
    {
     "data": {
      "image/png": "[encoded data removed]",
      "text/plain": [
       "<Figure size 432x288 with 1 Axes>"
      ]
     },
     "metadata": {
      "needs_background": "light"
     },
     "output_type": "display_data"
    }
   ],
   "source": [
    "plt.plot(val, '-b')\n",
    "plt.plot(train, '-r')"
   ]
  },
  {
   "cell_type": "code",
   "execution_count": 30,
   "metadata": {},
   "outputs": [],
   "source": [
    "pred = pred.detach().cpu().numpy()\n",
    "Yv = Yv.detach().cpu().numpy()"
   ]
  },
  {
   "cell_type": "markdown",
   "metadata": {},
   "source": [
    "6NN: 0.005 3.528 under D7 datasets!!"
   ]
  },
  {
   "cell_type": "code",
   "execution_count": 31,
   "metadata": {},
   "outputs": [
    {
     "name": "stdout",
     "output_type": "stream",
     "text": [
      "Time error: 0.010, Shape error: 3.674\n"
     ]
    }
   ],
   "source": [
    "error_time, error_with_q = calc_loss(pred, Yv, Trueth, DMP_ORDER)\n",
    "print(\"Time error: %.3f, Shape error: %.3f\" % (error_time, error_with_q))"
   ]
  }
 ],
 "metadata": {
  "kernelspec": {
   "display_name": "Python 3",
   "language": "python",
   "name": "python3"
  },
  "language_info": {
   "codemirror_mode": {
    "name": "ipython",
    "version": 3
   },
   "file_extension": ".py",
   "mimetype": "text/x-python",
   "name": "python",
   "nbconvert_exporter": "python",
   "pygments_lexer": "ipython3",
   "version": "3.6.9"
  }
 },
 "nbformat": 4,
 "nbformat_minor": 4
}
