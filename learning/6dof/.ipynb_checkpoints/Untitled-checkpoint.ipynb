{
 "cells": [
  {
   "cell_type": "code",
   "execution_count": 56,
   "metadata": {},
   "outputs": [],
   "source": [
    "import numpy as np\n",
    "import sys, os\n",
    "import matplotlib.pyplot as plt\n",
    "\n",
    "from algpr.kernels import RBF\n",
    "from algpr.ppgpr import PPGPR\n",
    "from algpr.gpr import GaussianProcessRegressor\n",
    "from algpr.gpoegpr import GpoeGPR"
   ]
  },
  {
   "cell_type": "code",
   "execution_count": 1,
   "metadata": {},
   "outputs": [],
   "source": [
    "from casadi_kinodynamics.utils import symbolic_robot\n",
    "sym_robot = symbolic_robot.symbolic_robot(robot_name='IRB1100_4_058',\n",
    "                                          tool_mass=0.0,\n",
    "                                          tool_frame=[0., 0., 0.25, 0., 0., 0.],\n",
    "                                          tool_cog=[0.0, 0., 0.12],\n",
    "                                          tool_inertia=[\n",
    "                                              0., 0., 0., 0., 0., 0.],\n",
    "                                          load_casadi_fnc=True)"
   ]
  },
  {
   "cell_type": "code",
   "execution_count": 52,
   "metadata": {},
   "outputs": [],
   "source": [
    "lbx = np.concatenate([ np.array(sym_robot.q_min), -np.array(sym_robot.qd_max), -np.array([75,75,75,25,25,25]) ])\n",
    "ubx = np.concatenate([ np.array(sym_robot.q_max), np.array(sym_robot.qd_max), np.array([75,75,75,25,25,25]) ])"
   ]
  },
  {
   "cell_type": "code",
   "execution_count": 59,
   "metadata": {},
   "outputs": [],
   "source": [
    "Xtrain, Ytrain = [], []\n",
    "Xtest, Xtrain = [], []\n",
    "for _ in range(4000):\n",
    "    xi = np.random.uniform(lbx, ubx)\n",
    "    q,dq,ddq = xi[:6], xi[6:12], xi[12:]\n",
    "    tau_i = sym_robot.inv_dyn(q,dq,ddq).full()\n",
    "    X.append(xi.reshape(1,-1))\n",
    "    Y.append(tau_i.reshape(1,-1))\n",
    "X, Y = np.concatenate(X), np.concatenate(Y)"
   ]
  },
  {
   "cell_type": "code",
   "execution_count": null,
   "metadata": {},
   "outputs": [],
   "source": []
  },
  {
   "cell_type": "code",
   "execution_count": null,
   "metadata": {},
   "outputs": [],
   "source": []
  },
  {
   "cell_type": "code",
   "execution_count": null,
   "metadata": {},
   "outputs": [],
   "source": []
  }
 ],
 "metadata": {
  "kernelspec": {
   "display_name": "abb",
   "language": "python",
   "name": "abb"
  },
  "language_info": {
   "codemirror_mode": {
    "name": "ipython",
    "version": 3
   },
   "file_extension": ".py",
   "mimetype": "text/x-python",
   "name": "python",
   "nbconvert_exporter": "python",
   "pygments_lexer": "ipython3",
   "version": "3.9.13"
  }
 },
 "nbformat": 4,
 "nbformat_minor": 4
}
