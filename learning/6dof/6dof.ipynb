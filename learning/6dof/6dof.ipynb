{
 "cells": [
  {
   "cell_type": "code",
   "execution_count": 1,
   "metadata": {},
   "outputs": [],
   "source": [
    "import numpy as np\n",
    "import sys, os, h5py, re\n",
    "sys.path.append('..')\n",
    "import matplotlib.pyplot as plt\n",
    "import matplotlib as mpl\n",
    "from learning_utils import prepare_data_flexdmp, calc_loss_flexdmp\n",
    "from check_dyn import plot_res_6dof\n",
    "\n",
    "rc_fonts = {\n",
    "    \"text.usetex\": True,\n",
    "    'mathtext.default': 'regular',\n",
    "    'axes.labelsize': 25,'axes.titlesize':24, 'legend.fontsize': 24, 'xtick.labelsize': 24, 'ytick.labelsize': 24\n",
    "}\n",
    "mpl.rcParams.update(rc_fonts)"
   ]
  },
  {
   "cell_type": "code",
   "execution_count": 2,
   "metadata": {},
   "outputs": [],
   "source": [
    "# just for dyna error calc\n",
    "from casadi_kinodynamics.utils import symbolic_robot\n",
    "sym_robot = symbolic_robot.symbolic_robot(robot_name='IRB1100_4_058',\n",
    "                                          tool_mass=4.,\n",
    "                                          tool_frame=[0., 0., 0.0, 0., 0., 0.],\n",
    "                                          tool_cog=[0.0, 0., 0.0],\n",
    "                                          tool_inertia=[\n",
    "                                              0., 0., 0., 0., 0., 0.],\n",
    "                                          load_casadi_fnc=True)"
   ]
  },
  {
   "cell_type": "code",
   "execution_count": 3,
   "metadata": {},
   "outputs": [],
   "source": [
    "from trajencoder.flexdmp.flexdmp import FlexDMP\n",
    "from algpr.gpr import GaussianProcessRegressor\n",
    "from algpr.gpoegpr import GpoeGPR\n",
    "from algpr.kernels import RBF\n",
    "from algpr.ppgpr import PPGPR\n",
    "from algpr.vigpr import VIGPR"
   ]
  },
  {
   "cell_type": "code",
   "execution_count": 4,
   "metadata": {},
   "outputs": [],
   "source": [
    "DMP_ORDER = 50"
   ]
  },
  {
   "cell_type": "code",
   "execution_count": 14,
   "metadata": {},
   "outputs": [],
   "source": [
    "Xv, Yv, Trueth, qd_trueth, qdd_trueth, tau_trueth = prepare_data_flexdmp(\"../../data/6dof/new_dynamics/box2box_varOri/Vali_1e-07_jerk_0.00_mass.hdf5\", FlexDMP, DMP_ORDER=DMP_ORDER, \\\n",
    "                                                             return_dyddy=True, return_tau=True, dof=6)"
   ]
  },
  {
   "cell_type": "code",
   "execution_count": 5,
   "metadata": {},
   "outputs": [],
   "source": [
    "from glob import glob\n",
    "val_list = glob(\"../../data/6dof/new_dynamics/box2box_varOri/Vali_1e-07_je*\")\n",
    "Xv, Yv, Trueth, qd_trueth, qdd_trueth, tau_trueth = [], [], [], [], [], []\n",
    "for val_file in val_list:\n",
    "    Xvi, Yvi, Truethi, qd_truethi, qdd_truethi, tau_truethi = prepare_data_flexdmp(val_file, FlexDMP, DMP_ORDER=DMP_ORDER, \\\n",
    "                                                             return_dyddy=True, return_tau=True, dof=6)\n",
    "    Xv.append(Xvi)\n",
    "    Yv.append(Yvi)\n",
    "    Trueth += Truethi\n",
    "    qd_trueth+=qd_truethi\n",
    "    qdd_trueth+=qdd_truethi\n",
    "    tau_trueth+=tau_truethi\n",
    "Xv, Yv = np.concatenate(Xv), np.concatenate(Yv)"
   ]
  },
  {
   "cell_type": "code",
   "execution_count": 6,
   "metadata": {},
   "outputs": [
    {
     "data": {
      "text/plain": [
       "(2025, 301)"
      ]
     },
     "execution_count": 6,
     "metadata": {},
     "output_type": "execute_result"
    }
   ],
   "source": [
    "Yv.shape"
   ]
  },
  {
   "cell_type": "code",
   "execution_count": null,
   "metadata": {},
   "outputs": [],
   "source": [
    "# X, Y, _ = prepare_data_flexdmp(\"../../data/6dof/Training_orient_Box1ToBox2_4.0_mass_al_100.hdf5\", \\\n",
    "#                                      FlexDMP, DMP_ORDER=DMP_ORDER, dof=6)\n",
    "\n",
    "X, Y, _ = prepare_data_flexdmp(\"/home/jiayun/MotionLearning/suboptimal_planner/data/6dof/Training_1e-07_jerk_0.00_mass.hdf5\", \\\n",
    "                                     FlexDMP, DMP_ORDER=DMP_ORDER, dof=6)"
   ]
  },
  {
   "cell_type": "code",
   "execution_count": 6,
   "metadata": {},
   "outputs": [],
   "source": [
    "from glob import glob\n",
    "val_list = glob(\"../../data/6dof/new_dynamics/box2box_varOri/backoff_data/Training_1e-07_jerk*\")\n",
    "X, Y = [], []\n",
    "for val_file in val_list:\n",
    "    X_i, Y_i, _ = prepare_data_flexdmp(val_file, FlexDMP, DMP_ORDER=DMP_ORDER, dof=6)\n",
    "    X.append(X_i)\n",
    "    Y.append(Y_i)\n",
    "X, Y = np.concatenate(X), np.concatenate(Y)"
   ]
  },
  {
   "cell_type": "code",
   "execution_count": 24,
   "metadata": {},
   "outputs": [
    {
     "data": {
      "text/plain": [
       "(36864, 13)"
      ]
     },
     "execution_count": 24,
     "metadata": {},
     "output_type": "execute_result"
    }
   ],
   "source": [
    "X.shape"
   ]
  },
  {
   "cell_type": "markdown",
   "metadata": {},
   "source": [
    "## The evaluation of active learning"
   ]
  },
  {
   "cell_type": "code",
   "execution_count": null,
   "metadata": {},
   "outputs": [],
   "source": [
    "box1 = np.unique(X[:,:6], axis=0)\n",
    "box2 = np.unique(X[:,6:12], axis=0)\n",
    "sorted_box1_index_mi = np.array([], dtype=int)\n",
    "sorted_box2_index_mi = np.array([], dtype=int)\n",
    "sorted_box1_index_et = np.array([np.random.randint(0,len(box1))], dtype=int)\n",
    "sorted_box2_index_et = np.array([np.random.randint(0,len(box2))], dtype=int)\n",
    "kernel = RBF(l=[2]*6, anisotropic=True)\n",
    "for jj in range(len(box1)-1):\n",
    "    max_index_box1_mi, _ = PPGPR.max_mulinfo_x_discrete(box1, sorted_box1_index_mi, kernel=kernel)\n",
    "    max_index_box2_mi, _ = PPGPR.max_mulinfo_x_discrete(box2, sorted_box2_index_mi, kernel=kernel)\n",
    "    sorted_box1_index_mi = np.concatenate([sorted_box1_index_mi, np.array([max_index_box1_mi])])\n",
    "    sorted_box2_index_mi = np.concatenate([sorted_box2_index_mi, np.array([max_index_box2_mi])])\n",
    "    \n",
    "    if jj < len(box1)-2:\n",
    "        max_index_box1_et, _ = PPGPR.max_entropy_x_discrete(box1, sorted_box1_index_et, kernel=kernel)\n",
    "        max_index_box2_et, _ = PPGPR.max_entropy_x_discrete(box2, sorted_box2_index_et, kernel=kernel)\n",
    "        sorted_box1_index_et = np.concatenate([sorted_box1_index_et, np.array([max_index_box1_et])])\n",
    "        sorted_box2_index_et = np.concatenate([sorted_box2_index_et, np.array([max_index_box2_et])])"
   ]
  },
  {
   "cell_type": "code",
   "execution_count": null,
   "metadata": {},
   "outputs": [],
   "source": [
    "from itertools import product\n",
    "time_loss_l_mi = []\n",
    "peak_vio_l_mi = []\n",
    "time_loss_l_et = []\n",
    "peak_vio_l_et = []\n",
    "for i in range(1,50,3):\n",
    "    print(\"Sampling number: \", i)\n",
    "    \n",
    "    box1_l_mi = box1[sorted_box1_index_mi[:i]]\n",
    "    box2_l_mi = box2[sorted_box2_index_mi[:i]]\n",
    "    box_mix_mi = np.array( list(product(box1_l_mi, box2_l_mi))).reshape(-1,12)\n",
    "    \n",
    "    box1_l_et = box1[sorted_box1_index_et[:i]]\n",
    "    box2_l_et = box2[sorted_box2_index_et[:i]]\n",
    "    box_mix_et = np.array( list(product(box1_l_et, box2_l_et))).reshape(-1,12)\n",
    "\n",
    "    index_temp_mi = []\n",
    "    for x_mix in box_mix_mi:\n",
    "        index_i = np.all(np.isclose(X[:,:-1], x_mix), axis=1)\n",
    "        index_temp_mi += np.where(index_i)[0].tolist()\n",
    "    index_temp_mi = np.array( index_temp_mi)\n",
    "    Xp_mi, Yp_mi = X[index_temp_mi], Y[index_temp_mi]\n",
    "    \n",
    "    index_temp_et = []\n",
    "    for x_mix in box_mix_et:\n",
    "        index_i = np.all(np.isclose(X[:,:-1], x_mix), axis=1)\n",
    "        index_temp_et += np.where(index_i)[0].tolist()\n",
    "    index_temp_et = np.array( index_temp_et)\n",
    "    Xp_et, Yp_et = X[index_temp_et], Y[index_temp_et]\n",
    "    \n",
    "    gpr_mi = PPGPR(kernel=RBF(l=[1.5]*13, anisotropic=True))\n",
    "    ind_m = len(Xp_mi) if len(Xp_mi) <= 6500 else 6500\n",
    "    gpr_mi.fit(Xp_mi, Yp_mi, m=ind_m)\n",
    "    \n",
    "    gpr_et = PPGPR(kernel=RBF(l=[1.5]*13, anisotropic=True))\n",
    "    ind_m = len(Xp_et) if len(Xp_et) <= 6500 else 6500\n",
    "    gpr_et.fit(Xp_et, Yp_et, m=ind_m)\n",
    "    print(\"Start evaluation...\")\n",
    "#######\n",
    "#     vali_index = np.random.choice(np.arange(len(Xv)), 100)\n",
    "    Xv_p = Xv\n",
    "    Yv_p = Yv\n",
    "    pred_mi = gpr_mi.predict(Xv_p)\n",
    "    pred_et = gpr_et.predict(Xv_p)\n",
    "    time_loss, torque_violation, peak_violation, peak_violation_index = calc_loss_flexdmp(pred_mi, Xv_p, Yv_p, DMP_ORDER, dof=6)\n",
    "    time_loss_mean = time_loss.mean()\n",
    "    time_loss_max = time_loss.max()\n",
    "#         print(\"Time loss mulinfo: \", time_loss_m)\n",
    "    torque_vio_per = torque_violation/np.array(sym_robot.tau_max) * 100\n",
    "    torque_vio_peak = np.max(torque_vio_per)\n",
    "    torque_vio_mean = np.mean(torque_vio_per, axis=0).max()\n",
    "    print(torque_vio_mean)\n",
    "\n",
    "    time_loss_l_mi.append([time_loss_max, time_loss_mean])\n",
    "    peak_vio_l_mi.append([torque_vio_peak, torque_vio_mean])\n",
    "    \n",
    "    time_loss, torque_violation, peak_violation, peak_violation_index = calc_loss_flexdmp(pred_et, Xv_p, Yv_p, DMP_ORDER, dof=6)\n",
    "    time_loss_mean = time_loss.mean()\n",
    "    time_loss_max = time_loss.max()\n",
    "#         print(\"Time loss entropy: \", time_loss_m)\n",
    "    torque_vio_per = torque_violation/np.array(sym_robot.tau_max) * 100\n",
    "    torque_vio_peak = np.max(torque_vio_per)\n",
    "    torque_vio_mean = np.mean(torque_vio_per, axis=0).max()\n",
    "\n",
    "    time_loss_l_et.append([time_loss_max, time_loss_mean])\n",
    "    peak_vio_l_et.append([torque_vio_peak, torque_vio_mean])"
   ]
  },
  {
   "cell_type": "code",
   "execution_count": 4,
   "metadata": {},
   "outputs": [],
   "source": [
    "# time_loss_l_et = np.array(time_loss_l_et)\n",
    "# peak_vio_l_et = np.array(peak_vio_l_et)\n",
    "\n",
    "# time_loss_l_mi = np.array(time_loss_l_mi)\n",
    "# peak_vio_l_mi = np.array(peak_vio_l_mi)\n",
    "time_loss_l_mi = np.load(\"time_loss_mi_plot.npy\")\n",
    "peak_vio_l_mi = np.load(\"peak_vio_mi_plot.npy\")\n",
    "time_loss_l_et = np.load(\"time_loss_et_plot.npy\")\n",
    "peak_vio_l_et = np.load(\"peak_vio_et_plot.npy\")\n",
    "\n",
    "np.save(\"time_loss_mi_plot.npy\", time_loss_l_mi)\n",
    "np.save(\"peak_vio_mi_plot.npy\", peak_vio_l_mi)\n",
    "\n",
    "np.save(\"time_loss_et_plot.npy\", time_loss_l_et)\n",
    "np.save(\"peak_vio_et_plot.npy\", peak_vio_l_et)"
   ]
  },
  {
   "cell_type": "code",
   "execution_count": null,
   "metadata": {},
   "outputs": [],
   "source": [
    "peak_vio_l_et.mean(axis=1) < 7.1*1.05\n",
    "print(range(1,40,2)[5])"
   ]
  },
  {
   "cell_type": "code",
   "execution_count": 7,
   "metadata": {},
   "outputs": [
    {
     "data": {
      "image/png": "[encoded data removed]",
      "text/plain": [
       "<Figure size 864x432 with 2 Axes>"
      ]
     },
     "metadata": {
      "needs_background": "light"
     },
     "output_type": "display_data"
    }
   ],
   "source": [
    "scale_x = range(1,50,3)\n",
    "fig, (ax1, ax2) = plt.subplots(1, 2, sharex=True)\n",
    "ax1.plot(scale_x, time_loss_l_mi[:,0], '-c')\n",
    "ax1.plot(scale_x, time_loss_l_mi[:,1], '--c')\n",
    "ax1.fill_between(scale_x, (time_loss_l_mi[:,0]), (time_loss_l_mi[:,1]), color='c', alpha=.2)\n",
    "\n",
    "ax1.plot(scale_x, time_loss_l_et[:,0], '-m')\n",
    "ax1.plot(scale_x, time_loss_l_et[:,1], '--m')\n",
    "ax1.fill_between(scale_x, (time_loss_l_et[:,0]), (time_loss_l_et[:,1]), color='m', alpha=.2)\n",
    "\n",
    "ax1.plot(scale_x, 0.0017*np.ones_like(scale_x), '--k')\n",
    "ax1.plot(scale_x, 0.004*np.ones_like(scale_x), '-k')\n",
    "ax1.plot([31,31], [-10,10], '-.c', label=r\"MI below 5 \\%\")\n",
    "ax1.plot([40,40], [-10,10], '-.m', label=r\"ET below 5 \\%\")\n",
    "ax1.set_xlabel(\"number of sampling from box\")\n",
    "ax1.set_ylabel(\"MAE [sec]\")\n",
    "ax1.set_xlim([scale_x[0],scale_x[-1]])\n",
    "ax1.set_ylim([-0.02,0.35])\n",
    "ax1.grid()\n",
    "ax1.set_title(\"Time Sub-opt\")\n",
    "# ax1.legend()\n",
    "\n",
    "ax2.plot(scale_x, peak_vio_l_mi[:,0], '-c', label=\"MI sampling\")\n",
    "ax2.plot(scale_x, peak_vio_l_mi[:,1], '--c')\n",
    "ax2.fill_between(scale_x, (peak_vio_l_mi[:,0]), (peak_vio_l_mi[:,1]), color='c', alpha=.2)\n",
    "\n",
    "ax2.plot(scale_x, peak_vio_l_et[:,0], '-m', label=\"ET sampling\")\n",
    "ax2.plot(scale_x, peak_vio_l_et[:,1], '--m')\n",
    "ax2.fill_between(scale_x, (peak_vio_l_et[:,0]), (peak_vio_l_et[:,1]), color='m', alpha=.2)\n",
    "\n",
    "ax2.plot(scale_x, 7.1*np.ones_like(scale_x), '-k', label=\"Full enumeration peak\")\n",
    "ax2.plot(scale_x, 3.5*np.ones_like(scale_x), '--k', label=\"Full enumeration mean\")\n",
    "# ax2.plot(range(1,40,2), 7.1*np.ones_like(range(1,40,2)), '-r', label=\"Full enumeration\")\n",
    "ax2.plot([31,31], [-10,400], '-.c')\n",
    "ax2.plot([37,37], [-10,400], '-.m')\n",
    "ax2.set_xlabel(\"number of sampling from box\")\n",
    "ax2.set_ylabel(\"violation $[\\%]$\")\n",
    "ax2.grid()\n",
    "ax2.set_xlim([scale_x[0],scale_x[-1]])\n",
    "ax2.set_ylim([-3,100])\n",
    "\n",
    "ax2.set_title(\"Torque Violation\")\n",
    "\n",
    "# Put a legend below current axis\n",
    "lgd = fig.legend(bbox_to_anchor=(0.98, -0.18),loc = 'lower right', fancybox=True, shadow=True, ncol=3)\n",
    "\n",
    "fig.set_figheight(6)\n",
    "fig.set_figwidth(12)\n",
    "plt.tight_layout()\n",
    "plt.savefig(\"/home/jiayun/Desktop/ActiveL.svg\", bbox_extra_artists=(lgd,), bbox_inches='tight')"
   ]
  },
  {
   "cell_type": "markdown",
   "metadata": {},
   "source": [
    "## Active learning evaluation end"
   ]
  },
  {
   "cell_type": "code",
   "execution_count": 11,
   "metadata": {},
   "outputs": [],
   "source": [
    "np.save('X.npy', X)\n",
    "np.save('Y.npy', Y)"
   ]
  },
  {
   "cell_type": "code",
   "execution_count": 10,
   "metadata": {},
   "outputs": [],
   "source": [
    "X = np.load('X.npy')\n",
    "Y = np.load('Y.npy')"
   ]
  },
  {
   "cell_type": "code",
   "execution_count": null,
   "metadata": {},
   "outputs": [],
   "source": [
    "from itertools import product\n",
    "X_all1 = np.load(\"../../data/6dof/box_oppo/box1_pool.npy\")\n",
    "X_all2 = np.load(\"../../data/6dof/box_oppo/box2_pool.npy\")\n",
    "index1 = np.random.choice(np.arange(len(X_all1)), 151)\n",
    "index2 = np.random.choice(np.arange(len(X_all2)), 151)\n",
    "X_rand = np.array( list( product(X_all1[index1], X_all2[index2]))).reshape(-1,12)\n",
    "X_rand.shape"
   ]
  },
  {
   "cell_type": "code",
   "execution_count": null,
   "metadata": {},
   "outputs": [],
   "source": [
    "plt.figure(figsize=[11,6])\n",
    "for i in range(6):\n",
    "    plt.subplot(int(\"23{}\".format(i+1)))\n",
    "    plt.plot(X[:,i], X[:,i+6], 'r.', alpha=0.2)\n",
    "    plt.plot(X_rand[:,i], X_rand[:,i+6],'b.', alpha=0.01)\n",
    "plt.tight_layout()"
   ]
  },
  {
   "cell_type": "markdown",
   "metadata": {},
   "source": [
    "## Training"
   ]
  },
  {
   "cell_type": "code",
   "execution_count": null,
   "metadata": {},
   "outputs": [],
   "source": [
    "X = X[:,:12]\n",
    "Xv = Xv[:,:12]"
   ]
  },
  {
   "cell_type": "code",
   "execution_count": null,
   "metadata": {},
   "outputs": [],
   "source": [
    "full_gpr = GaussianProcessRegressor(kernel=RBF(l=[1.5]*12, anisotropic=True))\n",
    "full_gpr.fit(X_r, Y_r, call_hyper_opt=True)"
   ]
  },
  {
   "cell_type": "code",
   "execution_count": null,
   "metadata": {},
   "outputs": [],
   "source": [
    "index = np.random.choice(np.arange(0, len(X)), 1000)\n",
    "X_r, Y_r = X[index], Y[index]"
   ]
  },
  {
   "cell_type": "code",
   "execution_count": null,
   "metadata": {},
   "outputs": [],
   "source": [
    "X = X[:,:12]"
   ]
  },
  {
   "cell_type": "code",
   "execution_count": null,
   "metadata": {},
   "outputs": [],
   "source": [
    "Xv = Xv[:, :12]"
   ]
  },
  {
   "cell_type": "code",
   "execution_count": 12,
   "metadata": {},
   "outputs": [],
   "source": [
    "gpr = PPGPR(kernel=RBF(l=[1.5]*13, anisotropic=True))\n",
    "gpr.fit(X, Y, m=7800)\n",
    "# gpr = PPGPR(kernel=RBF(l=[2.]*13, anisotropic=True) )\n",
    "# gpr.load_model(\"../../planner/models/Box1ToBox2_Ker2.npy\")"
   ]
  },
  {
   "cell_type": "code",
   "execution_count": null,
   "metadata": {},
   "outputs": [],
   "source": [
    "# import torch\n",
    "# torch.cuda.empty_cache()"
   ]
  },
  {
   "cell_type": "code",
   "execution_count": null,
   "metadata": {
    "scrolled": true
   },
   "outputs": [],
   "source": [
    "gpr = VIGPR(kernel=RBF(l=np.array([2.]*13), anisotropic=True))\n",
    "gpr.fit(X, Y, m=100, max_dataset=4000, sub_L=50, cuda=False, Xm_subset_num=2000) # choose one from two points"
   ]
  },
  {
   "cell_type": "code",
   "execution_count": null,
   "metadata": {},
   "outputs": [],
   "source": [
    "pred, full_var = full_gpr.predict(Xv, return_var=True)"
   ]
  },
  {
   "cell_type": "code",
   "execution_count": 13,
   "metadata": {},
   "outputs": [],
   "source": [
    "pred, pp_var = gpr.predict(Xv, return_var=True)"
   ]
  },
  {
   "cell_type": "code",
   "execution_count": null,
   "metadata": {},
   "outputs": [],
   "source": [
    "pred, vi_var = gpr.predict(Xv, return_var=True)"
   ]
  },
  {
   "cell_type": "code",
   "execution_count": null,
   "metadata": {},
   "outputs": [],
   "source": [
    "### neural networks, bad choice\n",
    "# import torch\n",
    "# import torch.nn as nn\n",
    "# class FlexDMPForcing(nn.Module):\n",
    "#     def __init__(self):\n",
    "#         super().__init__()\n",
    "#         self.net = nn.Sequential(\n",
    "#             nn.Linear(13, 50),\n",
    "#             nn.ReLU(),\n",
    "#             nn.Linear(50, 400),\n",
    "#             nn.ReLU(),\n",
    "#             nn.Linear(400, 300),\n",
    "#             nn.ReLU(),\n",
    "#             nn.Linear(300, 240),\n",
    "#             nn.ReLU(),\n",
    "#             nn.Linear(240, 35*6),\n",
    "#         )\n",
    "#         self.init_weights(self.net)\n",
    "        \n",
    "#     def forward(self, x):\n",
    "#         return self.net(x)\n",
    "    \n",
    "#     def init_weights(self, m):\n",
    "#         if isinstance(m, nn.Linear):\n",
    "#             torch.nn.init.xavier_uniform(m.weight)\n",
    "#             m.bias.data.fill_(1.)\n",
    "            \n",
    "# net = FlexDMPForcing()\n",
    "# device = \"cuda\" if torch.cuda.is_available() else \"cpu\"\n",
    "# net.load_state_dict(torch.load(\"../../learning/weight.pth\"))\n",
    "# Xv_ = torch.from_numpy(Xv).float()\n",
    "# pred_nn = net(Xv_)\n",
    "\n",
    "# pred[:,:-1] = pred_nn.detach().numpy()\n",
    "###\n",
    "### N-D model\n",
    "import time\n",
    "time_l = []\n",
    "for _ in range(10):\n",
    "    s = time.time()\n",
    "    kernel = RBF(l=[0.22]*13, anisotropic=True)\n",
    "    pred = kernel(Xv, X) @ Y / kernel(Xv, X).sum(axis=1).reshape(-1,1)\n",
    "    e = time.time()\n",
    "    time_l.append(e-s)\n",
    "time_l = np.array(time_l)\n",
    "time_l.mean()"
   ]
  },
  {
   "cell_type": "markdown",
   "metadata": {},
   "source": [
    "1 . Tuned the DMP3 p and width and Rungkutta 4th integration  \n",
    "2 . Give it a larger size of AL picked dataset.  \n",
    "3. Smoother traj. large N of optimization "
   ]
  },
  {
   "cell_type": "code",
   "execution_count": null,
   "metadata": {},
   "outputs": [],
   "source": [
    "Xv = np.concatenate([Xv, 4*np.ones([400,1])],axis=1)"
   ]
  },
  {
   "cell_type": "code",
   "execution_count": 33,
   "metadata": {
    "scrolled": true
   },
   "outputs": [],
   "source": [
    "time_loss, torque_violation, peak_violation, peak_violation_index = calc_loss_flexdmp(pred, Xv, Yv, DMP_ORDER, dof=6, prolong=False)"
   ]
  },
  {
   "cell_type": "code",
   "execution_count": 35,
   "metadata": {},
   "outputs": [
    {
     "name": "stdout",
     "output_type": "stream",
     "text": [
      "Mean time loss: 0.01477530864197531 Peak time loss: 0.088\n"
     ]
    }
   ],
   "source": [
    "print(\"Mean time loss:\", time_loss.mean(), \"Peak time loss:\", time_loss.max())"
   ]
  },
  {
   "cell_type": "code",
   "execution_count": 36,
   "metadata": {},
   "outputs": [
    {
     "data": {
      "image/png": "[encoded data removed]",
      "text/plain": [
       "<Figure size 432x288 with 1 Axes>"
      ]
     },
     "metadata": {
      "needs_background": "light"
     },
     "output_type": "display_data"
    }
   ],
   "source": [
    "plt.boxplot(torque_violation/np.array(sym_robot.tau_max) * 100)\n",
    "plt.xlabel(\"joint number\")\n",
    "plt.ylabel(\"violation percentage\")\n",
    "plt.savefig(\"/home/jiayun/Desktop/violation.jpg\", dpi=100)\n",
    "plt.show()"
   ]
  },
  {
   "cell_type": "code",
   "execution_count": 37,
   "metadata": {},
   "outputs": [
    {
     "data": {
      "text/plain": [
       "10.631669509022275"
      ]
     },
     "execution_count": 37,
     "metadata": {},
     "output_type": "execute_result"
    }
   ],
   "source": [
    "(torque_violation/np.array(sym_robot.tau_max) * 100).max(axis=0).max()"
   ]
  },
  {
   "cell_type": "code",
   "execution_count": 21,
   "metadata": {},
   "outputs": [
    {
     "data": {
      "text/plain": [
       "array([ 573,  802, 2022, 1962,  911,  485])"
      ]
     },
     "execution_count": 21,
     "metadata": {},
     "output_type": "execute_result"
    }
   ],
   "source": [
    "peak_violation_index"
   ]
  },
  {
   "cell_type": "code",
   "execution_count": 38,
   "metadata": {},
   "outputs": [
    {
     "name": "stdout",
     "output_type": "stream",
     "text": [
      "How many traj of Joint 1 violate the 5 % torque limit: 0.00\n",
      "How many traj of Joint 2 violate the 5 % torque limit: 0.05\n",
      "How many traj of Joint 3 violate the 5 % torque limit: 0.00\n",
      "How many traj of Joint 4 violate the 5 % torque limit: 0.00\n",
      "How many traj of Joint 5 violate the 5 % torque limit: 0.00\n",
      "How many traj of Joint 6 violate the 5 % torque limit: 0.00\n"
     ]
    }
   ],
   "source": [
    "for joint in range(6):\n",
    "    percent = 100 * (((torque_violation[:,joint] / sym_robot.tau_max[joint]) * 100) > 5.).sum() / len(Xv)\n",
    "    print(\"How many traj of Joint {0} violate the 5 % torque limit: {1:.2f}\".format(joint+1 ,percent) )"
   ]
  },
  {
   "cell_type": "code",
   "execution_count": null,
   "metadata": {},
   "outputs": [],
   "source": [
    "gpr.save_model(\"Box1ToBox2_fixedOri_variable_payload_kernel_(1.5*13)\")"
   ]
  },
  {
   "cell_type": "markdown",
   "metadata": {},
   "source": [
    "Random sample  \n",
    "The rate of dyna violation:  100.0 %  \n",
    "The peak dyna violation:  [ 6.21185348 10.55968748  0.          3.71654357  0.          1.28119113]  \n",
    "Peak dyna violation occurs at:  [186. 193.   0.  33.   0. 202.]  \n",
    "The peak vel non-zero:  [0.22423251 0.05240221 0.0971503  0.14482993 0.11228568 0.22102077]  \n",
    "0.002097777777777778 0.0673332432911947 0.24270222069696104"
   ]
  },
  {
   "cell_type": "markdown",
   "metadata": {},
   "source": [
    "Kernel Regression:  \n",
    "The rate of dyna violation:  95.11111111111111 %  \n",
    "The peak dyna violation:  [12.21483055  4.39031308  0.85363343  0.          0.          0.3339995 ]  \n",
    "Peak dyna violation occurs at:  [151.  10.  21.   0.   0. 151.]  \n",
    "The peak vel non-zero:  [0.22535581 0.12319966 0.15815734 0.00487762 0.12210554 0.19267326]  \n",
    "0.0022044444444444446 0.011865373315657896 0.22092989636195373  \n",
    "\n",
    "\n",
    "sparse-GP:  \n",
    "The rate of dyna violation:  99.11111111111111 %  \n",
    "The peak dyna violation:  [4.89236314 3.63130148 1.25203258 0.         0.         0.24210191]  \n",
    "Peak dyna violation occurs at:  [155. 163.  21.   0.   0. 149.]  \n",
    "The peak vel non-zero:  [0.20415126 0.08580309 0.12413602 0.00325246 0.07068176 0.18778735]  \n",
    "0.0017244444444444455 0.008600736551722719 0.2230232570878485\n",
    "\n",
    "sparse-GP-time + nn-DMP:  \n",
    "The rate of dyna violation:  99.55555555555556 %  \n",
    "The peak dyna violation:  [6.42262095 3.90635188 1.66475741 0.         0.         0.23731786]  \n",
    "Peak dyna violation occurs at:  [156. 149.  21.   0.   0. 183.]  \n",
    "The peak vel non-zero:  [0.21346654 0.09944592 0.09868367 0.02733289 0.06707143 0.19303345]  \n",
    "0.0017244444444444455 0.008875566678227028 0.23328338645800245"
   ]
  },
  {
   "cell_type": "code",
   "execution_count": 39,
   "metadata": {},
   "outputs": [
    {
     "data": {
      "text/plain": [
       "4.153740546622158"
      ]
     },
     "execution_count": 39,
     "metadata": {},
     "output_type": "execute_result"
    }
   ],
   "source": [
    "diff = np.abs(pred[:,-1] - Yv[:,-1])\n",
    "100 * (diff).sum() / Yv[:,-1].sum()"
   ]
  },
  {
   "cell_type": "code",
   "execution_count": 42,
   "metadata": {},
   "outputs": [
    {
     "data": {
      "text/plain": [
       "21.94860546200388"
      ]
     },
     "execution_count": 42,
     "metadata": {},
     "output_type": "execute_result"
    }
   ],
   "source": [
    "np.max(100 * (diff) * (61/88) / Yv[:,-1])"
   ]
  },
  {
   "cell_type": "code",
   "execution_count": 23,
   "metadata": {},
   "outputs": [],
   "source": [
    "from learning_utils import spline_reconstruct_via, flexdmp_reconstruct\n",
    "rc_fonts = {\n",
    "    \"text.usetex\": True,\n",
    "    'mathtext.default': 'regular',\n",
    "    'axes.labelsize': 23,'axes.titlesize':14, 'legend.fontsize': 20, 'xtick.labelsize': 22, 'ytick.labelsize': 22\n",
    "}\n",
    "font_size = 26\n",
    "mpl.rcParams.update(rc_fonts)\n",
    "import matplotlib.pyplot as plt\n",
    "def get_traj_tau(tau_func, q, dq, ddq):\n",
    "    tau = []\n",
    "    for i in range(len(q)):\n",
    "        tau_i = tau_func(q[i,:],dq[i,:],ddq[i,:]).full()\n",
    "        tau.append(tau_i.reshape(1,-1))\n",
    "    return np.concatenate(tau)\n",
    "def plot_res_6dof(q_max, q_min, dq_max, ddq_max, index, pred, Xv, Yv, Trueth, dq_trueth, ddq_trueth, tau_trueth, dmp3=None, DMP_ORDER=None, dof=6, dt=0.004):\n",
    "    plt.figure(figsize=[10,18])\n",
    "    color_map = {0:'brown', 1:'orange', 2:'dimgray', 3:'green', 4:'c', 5:'blue'}\n",
    "    # figure 1\n",
    "    plt.subplot(411)\n",
    "\n",
    "    q_real = Trueth[index]\n",
    "    PARAM = pred[index,0:-1].reshape(dof, DMP_ORDER)\n",
    "    length = int(pred[index, -1])\n",
    "    initial, goal = q_real[0], q_real[-1]\n",
    "    q, dq, ddq = flexdmp_reconstruct(PARAM, initial, goal, length, DMP_ORDER, dof)\n",
    "    t = np.linspace(0, len(q)*dt, len(q))\n",
    "    \n",
    "    # plt.plot([t[-1], t[-1]], [np.min(Trueth[index]), np.max(Trueth[index])], '-.b') # the indicator line for the ending of prediction\n",
    "    time_vec = np.linspace(0, Yv[index,-1]*dt, int(Yv[index,-1])) # time vector of the ground trueth\n",
    "    # plt.plot([time_vec[-1], time_vec[-1]], [np.min(Trueth[index]), np.max(Trueth[index])], '-.r')\n",
    "    plt.ylabel(r\"$\\mathbf{q}\\ [rad]$\", fontsize=font_size)\n",
    "    for i in range(dof):\n",
    "        plt.plot(t, q[:,i], '-', color=color_map[i], label='Joint {}'.format(i+1))\n",
    "        plt.plot(time_vec, Trueth[index][:,i], '--', color=color_map[i])\n",
    "        # plt.plot(t, np.ones_like(t)*q_max[i], '-.', color=color_map[i], alpha=0.4)\n",
    "        # plt.plot(t, np.ones_like(t)*q_min[i], '-.', color=color_map[i], alpha=0.4)\n",
    "    handles, labels = plt.gca().get_legend_handles_labels()\n",
    "    labels, ids = np.unique(labels, return_index=True)\n",
    "    # plt.xlabel(\"time [sec]\",fontsize=font_size)\n",
    "    handles = [handles[i] for i in ids]\n",
    "    plt.grid()\n",
    "    \n",
    "    # figure 2, plot the velocity\n",
    "    plt.subplot(412)\n",
    "    for i in range(dof):\n",
    "        plt.plot(t, dq[:,i], '-', color=color_map[i])\n",
    "        plt.plot(time_vec, dq_trueth[index][:,i], '--', color=color_map[i])\n",
    "        plt.plot(t, np.ones_like(t)*dq_max[i], '-.', color=color_map[i], alpha=0.4)\n",
    "        plt.plot(t, -np.ones_like(t)*dq_max[i], '-.', color=color_map[i], alpha=0.4)\n",
    "    plt.grid()\n",
    "    dq_max_line = np.max([np.max(dq_trueth[index]), np.max(dq)])\n",
    "    dq_min_line = np.min([np.min(dq_trueth[index]), np.min(dq)])\n",
    "    \n",
    "    plt.ylim(dq_max_line+1., dq_min_line-1.)\n",
    "    plt.ylabel(r\"$\\dot{\\mathbf{q}}\\ [rad/s]$\", fontsize=font_size)\n",
    "    # plt.xlabel(\"time [sec]\",fontsize=font_size)\n",
    "    # figure 3, plot the acceleration\n",
    "    plt.subplot(413)\n",
    "    for i in range(dof):\n",
    "        plt.plot(t, ddq[:,i], '-', color=color_map[i])\n",
    "        plt.plot(time_vec, ddq_trueth[index][:,i], '--', color=color_map[i])\n",
    "        plt.plot(t, np.ones_like(t)*ddq_max[i], '-.', color=color_map[i], alpha=0.4)\n",
    "        plt.plot(t, -np.ones_like(t)*ddq_max[i], '-.', color=color_map[i], alpha=0.4)\n",
    "    plt.grid()\n",
    "    plt.ylabel(r\"$\\ddot{\\mathbf{q}}\\ [rad/s^2]$\", fontsize=font_size)\n",
    "    # plt.xlabel(\"time [sec]\",fontsize=font_size)\n",
    "    # figure 4, plot the dynamics\n",
    "    plt.subplot(414)\n",
    "    sym_robot = symbolic_robot.symbolic_robot(robot_name='IRB1100_4_058',\n",
    "                                          tool_mass=Xv[index, -1],\n",
    "                                          tool_frame=[0., 0., 0.0, 0., 0., 0.],\n",
    "                                          tool_cog=[0.0, 0., 0.0],\n",
    "                                          tool_inertia=[\n",
    "                                              0., 0., 0., 0., 0., 0.],\n",
    "                                          load_casadi_fnc=True)\n",
    "    tau_func = sym_robot.inv_dyn\n",
    "    tau_max = sym_robot.tau_max\n",
    "    tau = get_traj_tau(tau_func, q, dq, ddq)\n",
    "    for i in range(dof):\n",
    "        plt.plot(t, 100* tau[:,i] / tau_max[i], '-', color=color_map[i])\n",
    "        plt.plot(time_vec, 100* tau_trueth[index][:,i] / tau_max[i], '--', color=color_map[i])\n",
    "    plt.plot(t, 100*np.ones_like(tau), '-.', color='red', alpha=0.4)\n",
    "    plt.plot(t, -np.ones_like(tau)*100, '-.', color='red', alpha=0.4)\n",
    "    plt.grid()\n",
    "    legend1 = plt.legend(handles, labels, loc='best', ncol=5, bbox_to_anchor=(1.015,4.95), labelspacing=0.1, columnspacing=.4)\n",
    "    plt.plot([], [], '--k', label=\"Optimal\")\n",
    "    plt.plot([], [], '-k', label=\"Prediction\")\n",
    "    plt.plot([], [], '-.k', label=\"Constraints\")\n",
    "    plt.legend(loc='best', ncol=3, bbox_to_anchor=(1.014,4.82), labelspacing=0.1, columnspacing=.5, framealpha=1)\n",
    "    plt.gca().add_artist(legend1)\n",
    "    plt.xlabel(\"time [sec]\",fontsize=font_size)\n",
    "    plt.ylabel(r\"\\boldmath$\\tau$ utilization $[\\%]$\", fontsize=font_size)\n",
    "\n",
    "    plt.savefig(r'/home/jiayun/MotionLearning/suboptimal_planner/plots/ordinary/{}_dmp_baseline.svg'.format(index), dpi=300, bbox_inches='tight')\n",
    "    plt.close()"
   ]
  },
  {
   "cell_type": "code",
   "execution_count": null,
   "metadata": {},
   "outputs": [],
   "source": [
    "for i in range(1893,1900):#peak_violation_index:\n",
    "    plot_res_6dof(sym_robot.q_max, sym_robot.q_min, sym_robot.qd_max, sym_robot.qdd_max, i, pred, Xv, Yv, Trueth,\\\n",
    "                  qd_trueth, qdd_trueth, tau_trueth, dmp3=FlexDMP, DMP_ORDER=DMP_ORDER)"
   ]
  },
  {
   "cell_type": "code",
   "execution_count": null,
   "metadata": {},
   "outputs": [],
   "source": []
  }
 ],
 "metadata": {
  "kernelspec": {
   "display_name": "abb",
   "language": "python",
   "name": "abb"
  },
  "language_info": {
   "codemirror_mode": {
    "name": "ipython",
    "version": 3
   },
   "file_extension": ".py",
   "mimetype": "text/x-python",
   "name": "python",
   "nbconvert_exporter": "python",
   "pygments_lexer": "ipython3",
   "version": "3.9.13"
  }
 },
 "nbformat": 4,
 "nbformat_minor": 4
}
