{
 "cells": [
  {
   "cell_type": "code",
   "execution_count": 1,
   "metadata": {},
   "outputs": [],
   "source": [
    "import numpy as np\n",
    "import sys, os, h5py, re\n",
    "sys.path.append('..')\n",
    "sys.path.append(\"../..\")\n",
    "import matplotlib.pyplot as plt\n",
    "from learning_utils import prepare_data_flexdmp, calc_loss_flexdmp\n",
    "from check_dyn import plot_res_6dof"
   ]
  },
  {
   "cell_type": "code",
   "execution_count": 2,
   "metadata": {},
   "outputs": [],
   "source": [
    "# just for dyna error calc\n",
    "from casadi_kinodynamics.utils import symbolic_robot\n",
    "sym_robot = symbolic_robot.symbolic_robot(robot_name='IRB1100_4_058',\n",
    "                                          tool_mass=.5,\n",
    "                                          tool_frame=[0., 0., 0.25, 0., 0., 0.],\n",
    "                                          tool_cog=[0.0, 0., 0.12],\n",
    "                                          tool_inertia=[\n",
    "                                              0., 0., 0., 0., 0., 0.],\n",
    "                                          load_casadi_fnc=True)"
   ]
  },
  {
   "cell_type": "code",
   "execution_count": 3,
   "metadata": {},
   "outputs": [],
   "source": [
    "from trajencoder.flexdmp.flexdmp import FlexDMP\n",
    "from algpr.kernels import RBF\n",
    "from algpr.ppgpr import PPGPR\n",
    "# active learning environment\n",
    "from data.collect_data_6dof import Env6dof"
   ]
  },
  {
   "cell_type": "markdown",
   "metadata": {},
   "source": [
    "## Full offline, optimal experiment design"
   ]
  },
  {
   "cell_type": "code",
   "execution_count": 26,
   "metadata": {},
   "outputs": [],
   "source": [
    "# give a .1% duration, for the Aula will violate the constraints a little bit\n",
    "q_min, q_max = sym_robot.q_min, sym_robot.q_max\n",
    "lbx = [q_min[i]*.999 for i in range(1)] + [q_min[i]*.999 for i in range(1)]\n",
    "ubx = [q_max[i]*.999 for i in range(1)] + [q_max[i]*.999 for i in range(1)]"
   ]
  },
  {
   "cell_type": "code",
   "execution_count": 27,
   "metadata": {},
   "outputs": [],
   "source": [
    "bounds = np.concatenate([np.array(lbx).reshape(-1,1), np.array(ubx).reshape(-1,1)], axis=1)"
   ]
  },
  {
   "cell_type": "code",
   "execution_count": 6,
   "metadata": {},
   "outputs": [],
   "source": [
    "lbx = np.array(lbx)\n",
    "ubx = np.array(ubx)\n",
    "lbx -= mean.squeeze()\n",
    "lbx /= norm_factor.squeeze()\n",
    "ubx -= mean.squeeze()\n",
    "ubx /= norm_factor.squeeze()\n",
    "lbx = lbx.tolist()\n",
    "ubx = ubx.tolist()"
   ]
  },
  {
   "cell_type": "code",
   "execution_count": 29,
   "metadata": {},
   "outputs": [],
   "source": [
    "# container\n",
    "Xinit = np.random.uniform(lbx, ubx).reshape(1,-1)\n",
    "kernel = RBF(l=[0.95]*2, anisotropic=True)\n",
    "noise_level = 0.\n",
    "N = 50\n",
    "P = 2"
   ]
  },
  {
   "cell_type": "code",
   "execution_count": 30,
   "metadata": {},
   "outputs": [
    {
     "name": "stderr",
     "output_type": "stream",
     "text": [
      "100%|███████████████████████████████████████████| 50/50 [01:06<00:00,  1.32s/it]\n"
     ]
    }
   ],
   "source": [
    "Xres = PPGPR.max_mulinfo_X(lbx, ubx, Xinit, kernel, P, noise_level, N, solve_type='full')"
   ]
  },
  {
   "cell_type": "code",
   "execution_count": 31,
   "metadata": {},
   "outputs": [
    {
     "data": {
      "image/png": "[encoded data removed]",
      "text/plain": [
       "<Figure size 360x360 with 1 Axes>"
      ]
     },
     "metadata": {
      "needs_background": "light"
     },
     "output_type": "display_data"
    }
   ],
   "source": [
    "plt.figure(figsize=[5,5])\n",
    "# for i in range(1,6):\n",
    "#     plt.subplot(int(\"15{}\".format(i)))\n",
    "plt.scatter(Xres[:,0], Xres[:,1], s=50)\n",
    "plt.savefig(\"/home/jiayun/Desktop/asd.jpg\", dpi=200)"
   ]
  },
  {
   "cell_type": "code",
   "execution_count": null,
   "metadata": {},
   "outputs": [],
   "source": []
  },
  {
   "cell_type": "markdown",
   "metadata": {},
   "source": [
    "## TODO, cylinder sampling, mutual information criterion."
   ]
  },
  {
   "cell_type": "code",
   "execution_count": null,
   "metadata": {},
   "outputs": [],
   "source": []
  }
 ],
 "metadata": {
  "kernelspec": {
   "display_name": "abb",
   "language": "python",
   "name": "abb"
  },
  "language_info": {
   "codemirror_mode": {
    "name": "ipython",
    "version": 3
   },
   "file_extension": ".py",
   "mimetype": "text/x-python",
   "name": "python",
   "nbconvert_exporter": "python",
   "pygments_lexer": "ipython3",
   "version": "3.9.13"
  }
 },
 "nbformat": 4,
 "nbformat_minor": 4
}
