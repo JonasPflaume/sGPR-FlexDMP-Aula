{
 "cells": [
  {
   "cell_type": "code",
   "execution_count": null,
   "metadata": {},
   "outputs": [],
   "source": [
    "import numpy as np\n",
    "import sys, os, h5py, re\n",
    "sys.path.append('..')\n",
    "from trajencoder.bspline.bspline import QuinticSpline\n",
    "import matplotlib.pyplot as plt\n",
    "from learning_utils import prepare_data_via, spline_reconstruct_via, calc_loss_spl_via\n",
    "from data.collect_data import collect_data_with_bspline_weight\n",
    "from casadi_kinodynamics.utils import symbolic_robot\n",
    "\n",
    "from algpr.gpr import GaussianProcessRegressor\n",
    "from algpr.kernels import RBF"
   ]
  },
  {
   "cell_type": "code",
   "execution_count": null,
   "metadata": {},
   "outputs": [],
   "source": [
    "os.chdir('/home/jiayun/MotionLearning/suboptimal_planner/learning')\n",
    "print(os.getcwd())"
   ]
  },
  {
   "cell_type": "code",
   "execution_count": null,
   "metadata": {},
   "outputs": [],
   "source": [
    "sym_robot = symbolic_robot.symbolic_robot(robot_name='IRB910_2r', tool_mass=0.0,\n",
    "                                                tool_frame=[0., 0., 0.3, 0., 0., 0.], load_casadi_fnc=False)\n",
    "q_min, q_max = sym_robot.q_min, sym_robot.q_max\n",
    "qd_min, qd_max = np.zeros(2), sym_robot.qd_max"
   ]
  },
  {
   "cell_type": "code",
   "execution_count": null,
   "metadata": {},
   "outputs": [],
   "source": [
    "FILE = h5py.File('../data/optimal_data_.hdf5', 'w')"
   ]
  },
  {
   "cell_type": "code",
   "execution_count": null,
   "metadata": {},
   "outputs": [],
   "source": [
    "# load the save data for the second run\n",
    "spline_order = 16"
   ]
  },
  {
   "cell_type": "code",
   "execution_count": null,
   "metadata": {},
   "outputs": [],
   "source": [
    "# start with 50 random sample\n",
    "q_his = []\n",
    "X_init = []\n",
    "Y_init = []\n",
    "bs = QuinticSpline(knots=spline_order)\n",
    "for _ in range(50):\n",
    "    qi = [np.random.uniform(q_min[i], q_max[i]) for i in range(2)]\n",
    "    qf = [np.random.uniform(q_min[i], q_max[i]) for i in range(2)]\n",
    "    qdi = [i for i in [0., 0.]]\n",
    "    qdf = [i for i in [0., 0.]]\n",
    "    dt, t, q, qd, qdd, tau, weight = collect_data_with_bspline_weight(sym_robot, qi, qf, qdi, qdf, SPL_ORDER=spline_order)\n",
    "    #########collect data\n",
    "    temp_group = FILE.create_group(\"{}|{}|{}|{}\".format(qi[0],qi[1],qf[0],qf[1]))\n",
    "    temp_group.create_dataset(\"dt\", data=dt)\n",
    "    temp_group.create_dataset(\"t\", data=t)\n",
    "    temp_group.create_dataset(\"q\", data=q)\n",
    "    temp_group.create_dataset(\"qd\", data=qd)\n",
    "    temp_group.create_dataset(\"qdd\", data=qdd)\n",
    "    ##########\n",
    "    q_his.append(q)\n",
    "    t_s, q_s = bs.subsample(t, q)\n",
    "    X_init.append(np.array(qi + qf).reshape(1,-1))\n",
    "    y_i = np.append(q_s.flatten(), len(t))\n",
    "    Y_init.append(y_i.reshape(1,-1))\n",
    "X_init = np.concatenate(X_init)\n",
    "Y_init = np.concatenate(Y_init)"
   ]
  },
  {
   "cell_type": "code",
   "execution_count": null,
   "metadata": {},
   "outputs": [],
   "source": [
    "Xv, Yv, Trueth, qd_trueth, qdd_trueth = \\\n",
    "        prepare_data_via(\"../data/testing/2-dof-no-velocity/validating_D4.hdf5\", return_dyddy=True, knots=spline_order)"
   ]
  },
  {
   "cell_type": "code",
   "execution_count": null,
   "metadata": {},
   "outputs": [],
   "source": [
    "Y_init.shape"
   ]
  },
  {
   "cell_type": "code",
   "execution_count": null,
   "metadata": {},
   "outputs": [],
   "source": [
    "Yv.shape"
   ]
  },
  {
   "cell_type": "code",
   "execution_count": null,
   "metadata": {
    "scrolled": true
   },
   "outputs": [],
   "source": [
    "gpr = GaussianProcessRegressor(kernel=RBF(l=np.array([15]*4), anisotropic=True))\n",
    "gpr.fit(X_init, Y_init, call_hyper_opt=True)\n",
    "\n",
    "pred = gpr.predict(Xv)\n",
    "error_time, error_with_q = calc_loss_spl_via(pred, Xv, Yv, Trueth, SPL_ORDER=spline_order)\n",
    "print(\"Time error: {0:3f}, Shape error: {1:3f}\".format(error_time, error_with_q))"
   ]
  },
  {
   "cell_type": "code",
   "execution_count": null,
   "metadata": {},
   "outputs": [],
   "source": [
    "# give a 0.01% duration, for the Aula may violate the constraints a little bit\n",
    "lbx = [q_min[i]*.9999 for i in range(2)] + [q_min[i]*.9999 for i in range(2)]\n",
    "ubx = [q_max[i]*.9999 for i in range(2)] + [q_max[i]*.9999 for i in range(2)]"
   ]
  },
  {
   "cell_type": "markdown",
   "metadata": {},
   "source": [
    "### ALGPR main loop  \n",
    "baseline: 0.00325, 7.295"
   ]
  },
  {
   "cell_type": "code",
   "execution_count": null,
   "metadata": {
    "scrolled": true
   },
   "outputs": [],
   "source": [
    "%%time\n",
    "import time\n",
    "time_loss_l = []\n",
    "shape_loss_l = []\n",
    "computation_cost_l = []\n",
    "length_scale = np.array([5.]*4)\n",
    "training_len = 3500\n",
    "for k in range(training_len):\n",
    "    gpr = GaussianProcessRegressor(kernel=RBF(l=length_scale, anisotropic=True), noise_level=0.)\n",
    "    if (k % 5 == 0 and k < 200) or (k % 10 == 0 and k > 200 and k < 700) or (k % 50 == 0 and k > 700 and k < 2000) or \\\n",
    "        (k % 200 == 0 and k > 2000):\n",
    "        gpr.fit(X_init, Y_init, call_hyper_opt=True)\n",
    "    else:\n",
    "        gpr.fit(X_init, Y_init)\n",
    "    length_scale = gpr.kernel.length_scale\n",
    "    start_t = time.time()\n",
    "    x_next = gpr.max_entropy_x(lbx, ubx)\n",
    "    print(x_next)\n",
    "    end_t = time.time()\n",
    "    computation_cost_l.append(end_t - start_t)\n",
    "    print(\"At \", k , \" sampling\")\n",
    "    qi = [x_next[0,0], x_next[1,0]]\n",
    "    qf = [x_next[2,0], x_next[3,0]]\n",
    "    qdi = [i for i in [0., 0.]]\n",
    "    qdf = [i for i in [0., 0.]]\n",
    "    dt, t, q, qd, qdd, tau, weight = collect_data_with_bspline_weight(sym_robot, qi, qf, qdi, qdf, SPL_ORDER=spline_order)\n",
    "    #####collect data\n",
    "    temp_group = FILE.create_group(\"{}|{}|{}|{}\".format(qi[0],qi[1],qf[0],qf[1]))\n",
    "    temp_group.create_dataset(\"dt\", data=dt)\n",
    "    temp_group.create_dataset(\"t\", data=t)\n",
    "    temp_group.create_dataset(\"q\", data=q)\n",
    "    temp_group.create_dataset(\"qd\", data=qd)\n",
    "    temp_group.create_dataset(\"qdd\", data=qdd)\n",
    "    #####\n",
    "    q_his.append(q)\n",
    "    t_s, q_s = bs.subsample(t, q)\n",
    "    X_init = np.append(X_init, np.array(qi + qf).reshape(1,-1), axis=0)\n",
    "    y_i = np.append(q_s.flatten(), len(t))\n",
    "    Y_init = np.append(Y_init, y_i.reshape(1,-1), axis=0)\n",
    "    pred = gpr.predict(Xv)\n",
    "    time_loss, shape_loss = calc_loss_spl_via(pred, Xv, Yv, Trueth, SPL_ORDER=spline_order)\n",
    "    time_loss_l.append(time_loss)\n",
    "    shape_loss_l.append(shape_loss)\n",
    "    print(\"Time Loss: \", time_loss,\"Shape Loss: \", shape_loss)"
   ]
  },
  {
   "cell_type": "code",
   "execution_count": null,
   "metadata": {},
   "outputs": [],
   "source": [
    "FILE.close()"
   ]
  },
  {
   "cell_type": "code",
   "execution_count": null,
   "metadata": {},
   "outputs": [],
   "source": [
    "plt.figure()\n",
    "plt.plot(time_loss_l)\n",
    "plt.xlabel(\"Samples\")\n",
    "plt.ylabel(\"loss\")\n",
    "plt.yscale('log')\n",
    "plt.title(\"time loss\")\n",
    "plt.grid()\n",
    "plt.savefig(\"/home/jiayun/Desktop/time_spl.jpg\", dpi=200)\n",
    "plt.figure()\n",
    "plt.plot(shape_loss_l)\n",
    "plt.xlabel(\"Samples\")\n",
    "plt.ylabel(\"loss\")\n",
    "plt.yscale('log')\n",
    "plt.title(\"shape loss\")\n",
    "plt.grid()\n",
    "plt.savefig(\"/home/jiayun/Desktop/shape_spl.jpg\", dpi=200)\n",
    "plt.figure()\n",
    "plt.plot(computation_cost_l)\n",
    "plt.xlabel(\"Samples\")\n",
    "plt.ylabel(\"Time[s]\")\n",
    "plt.title(\"opt computation cost\")\n",
    "plt.grid()\n",
    "plt.savefig(\"/home/jiayun/Desktop/computation_spl.jpg\", dpi=200)\n",
    "X_init.shape"
   ]
  },
  {
   "cell_type": "code",
   "execution_count": null,
   "metadata": {},
   "outputs": [],
   "source": [
    "plt.plot(X_init[:,0], X_init[:,2], '.')\n",
    "plt.figure()\n",
    "plt.plot(X_init[:,1], X_init[:,3], '.')"
   ]
  },
  {
   "cell_type": "code",
   "execution_count": null,
   "metadata": {},
   "outputs": [],
   "source": [
    "X, Y, _ = prepare_data_via(\"../data/optimal_data_.hdf5\", knots=spline_order)\n",
    "gpr = GaussianProcessRegressor(kernel=RBF(l=np.array([2]*4), anisotropic=True), noise_level=0.)\n",
    "gpr.fit(X, Y, call_hyper_opt=False)"
   ]
  },
  {
   "cell_type": "code",
   "execution_count": null,
   "metadata": {},
   "outputs": [],
   "source": [
    "pred = gpr.predict(Xv)"
   ]
  },
  {
   "cell_type": "markdown",
   "metadata": {},
   "source": [
    "## Perfect prediction!!!\n",
    "The rate of dyna violation:  62.5 %  \n",
    "The peak dyna violation:  [12.57774614  0.        ]  \n",
    "Time error: 0.0000, Shape error: 0.000, Dyna error: 0.23771273  "
   ]
  },
  {
   "cell_type": "code",
   "execution_count": null,
   "metadata": {},
   "outputs": [],
   "source": [
    "sym_robot = symbolic_robot.symbolic_robot(robot_name='IRB910_2r', tool_mass=0.0,\n",
    "                                                tool_frame=[0., 0., 0.3, 0., 0., 0.], load_casadi_fnc=False)\n",
    "\n",
    "error_time, error_with_q, error_dyna = calc_loss_spl_via(pred, Xv, Yv, Trueth, SPL_ORDER=spline_order, \\\n",
    "                return_dyn_loss=True, tau_func=sym_robot.ck.get_inverse_dynamics_rnea(), tau_max=sym_robot.tau_max)\n",
    "print(\"Time error: {0:.4f}, Shape error: {1:.3f}, Dyna error: {2:.8f}\".format(error_time, error_with_q, error_dyna))"
   ]
  },
  {
   "cell_type": "code",
   "execution_count": null,
   "metadata": {},
   "outputs": [],
   "source": [
    "from check_dyn import plot_res_spl\n",
    "from casadi_kinodynamics.utils import symbolic_robot\n",
    "sym_robot = symbolic_robot.symbolic_robot(robot_name='IRB910_2r', tool_mass=0.0,\n",
    "                                                tool_frame=[0., 0., 0.3, 0., 0., 0.], load_casadi_fnc=False)\n",
    "tau_func = sym_robot.ck.get_inverse_dynamics_rnea()\n",
    "\n",
    "for index in range(0, len(pred)):\n",
    "    plot_res_spl(tau_func, sym_robot.tau_max, sym_robot.q_max, sym_robot.q_min, sym_robot.qd_max, sym_robot.qdd_max,\\\n",
    "                 index, pred, Xv, Yv, Trueth, qd_trueth, qdd_trueth, spline_order)"
   ]
  },
  {
   "cell_type": "code",
   "execution_count": null,
   "metadata": {},
   "outputs": [],
   "source": []
  }
 ],
 "metadata": {
  "kernelspec": {
   "display_name": "Python 3 (ipykernel)",
   "language": "python",
   "name": "python3"
  },
  "language_info": {
   "codemirror_mode": {
    "name": "ipython",
    "version": 3
   },
   "file_extension": ".py",
   "mimetype": "text/x-python",
   "name": "python",
   "nbconvert_exporter": "python",
   "pygments_lexer": "ipython3",
   "version": "3.9.10"
  }
 },
 "nbformat": 4,
 "nbformat_minor": 4
}
