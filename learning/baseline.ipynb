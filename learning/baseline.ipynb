{
 "cells": [
  {
   "cell_type": "code",
   "execution_count": 22,
   "metadata": {},
   "outputs": [],
   "source": [
    "import numpy as np\n",
    "import sys, os, h5py, re\n",
    "from trajencoder.dmp.dmp import DMP\n",
    "import matplotlib.pyplot as plt\n",
    "from learning_utils import prepare_data, DMP_reconstruct, calc_loss"
   ]
  },
  {
   "cell_type": "markdown",
   "metadata": {},
   "source": [
    "### prepare data"
   ]
  },
  {
   "cell_type": "code",
   "execution_count": 18,
   "metadata": {},
   "outputs": [],
   "source": [
    "DMP_ORDER = 25\n",
    "X, Y, _ = prepare_data(\"../data/training/2-dof-no-velocity/training_DMP25_D7.hdf5\")"
   ]
  },
  {
   "cell_type": "code",
   "execution_count": 19,
   "metadata": {},
   "outputs": [
    {
     "data": {
      "text/plain": [
       "(1764, 51)"
      ]
     },
     "execution_count": 19,
     "metadata": {},
     "output_type": "execute_result"
    }
   ],
   "source": [
    "Y.shape"
   ]
  },
  {
   "cell_type": "code",
   "execution_count": 20,
   "metadata": {},
   "outputs": [],
   "source": [
    "from sklearn.neighbors import KNeighborsRegressor\n",
    "from sklearn.kernel_ridge import KernelRidge\n",
    "from sklearn.linear_model import Ridge\n",
    "from sklearn.gaussian_process.kernels import RBF\n",
    "from sklearn.preprocessing import PolynomialFeatures\n",
    "from algpr.gpr import GaussianProcessRegressor\n",
    "from algpr.kernels import RBF as rbf"
   ]
  },
  {
   "cell_type": "code",
   "execution_count": 5,
   "metadata": {},
   "outputs": [
    {
     "name": "stdout",
     "output_type": "stream",
     "text": [
      "The evidence is:  -2.875355612020128e+18\n"
     ]
    },
    {
     "data": {
      "text/plain": [
       "-2.875355612020128e+18"
      ]
     },
     "execution_count": 5,
     "metadata": {},
     "output_type": "execute_result"
    }
   ],
   "source": [
    "neigh = KNeighborsRegressor(n_neighbors=5)\n",
    "neigh.fit(X, Y)\n",
    "\n",
    "clf = KernelRidge(kernel=RBF(length_scale=2))\n",
    "clf.fit(X, Y)\n",
    "\n",
    "poly = PolynomialFeatures(2)\n",
    "X_rr = poly.fit_transform(X)\n",
    "RR = Ridge(alpha=1.0)\n",
    "RR.fit(X_rr, Y)\n",
    "\n",
    "gpr = GaussianProcessRegressor(kernel=rbf(l=2.9))\n",
    "gpr.fit(X, Y)"
   ]
  },
  {
   "cell_type": "code",
   "execution_count": 6,
   "metadata": {},
   "outputs": [
    {
     "data": {
      "text/plain": [
       "array([], dtype=float64)"
      ]
     },
     "execution_count": 6,
     "metadata": {},
     "output_type": "execute_result"
    }
   ],
   "source": [
    "Y[Y > 300]"
   ]
  },
  {
   "cell_type": "code",
   "execution_count": 7,
   "metadata": {},
   "outputs": [],
   "source": [
    "Xv, Yv, Trueth = prepare_data(\"../data/testing/2-dof-no-velocity/validating_DMP25_D4.hdf5\")\n",
    "Xv_rr = poly.fit_transform(Xv)"
   ]
  },
  {
   "cell_type": "code",
   "execution_count": 8,
   "metadata": {},
   "outputs": [],
   "source": [
    "# pred = neigh.predict(Xv)\n",
    "# pred = clf.predict(Xv)\n",
    "# pred = RR.predict(Xv_rr)\n",
    "pred = gpr.predict(Xv)"
   ]
  },
  {
   "cell_type": "code",
   "execution_count": 9,
   "metadata": {},
   "outputs": [
    {
     "name": "stdout",
     "output_type": "stream",
     "text": [
      "Kernel ridge regression:  0.6677651405334473 ms\n"
     ]
    }
   ],
   "source": [
    "import time\n",
    "start = time.time()\n",
    "for _ in range(100):\n",
    "    _ = gpr.predict(Xv[0].reshape(1,-1))\n",
    "end = time.time()\n",
    "\n",
    "print(\"Kernel ridge regression: \", (end - start) / 100 * 1000, \"ms\")"
   ]
  },
  {
   "cell_type": "code",
   "execution_count": 10,
   "metadata": {},
   "outputs": [
    {
     "data": {
      "text/plain": [
       "(36, 51)"
      ]
     },
     "execution_count": 10,
     "metadata": {},
     "output_type": "execute_result"
    }
   ],
   "source": [
    "pred.shape"
   ]
  },
  {
   "cell_type": "code",
   "execution_count": 11,
   "metadata": {},
   "outputs": [],
   "source": [
    "for i in range(len(Yv)):\n",
    "    whichone = i\n",
    "    pred_y = pred[whichone, :2*DMP_ORDER].reshape(DMP_ORDER,2)\n",
    "    pred_length = pred[whichone, -1]\n",
    "    target_y = Yv[whichone, :2*DMP_ORDER].reshape(DMP_ORDER,2)\n",
    "    target_length = Yv[whichone, -1]\n",
    "    # choose one to visualize\n",
    "    q = Trueth[whichone]\n",
    "    length = len(q)\n",
    "    res_q, t1, t2 = DMP_reconstruct(target_y, DMP_ORDER, q[0], q[-1], int(target_length), 2)\n",
    "    res_q_, t1_, t2_ = DMP_reconstruct(pred_y, DMP_ORDER, q[0], q[-1], int(pred_length), 2)\n",
    "    plt.figure(figsize=[10,7])\n",
    "    plt.plot(t1, q, '-.r', label='target')\n",
    "    plt.plot(t2, res_q, '-b', label='encoded')\n",
    "    plt.plot([t1[-1],t1[-1]],[np.min(q),np.max(q)], '-.r')\n",
    "    plt.plot([t2_[-1],t2_[-1]],[np.min(res_q_),np.max(res_q_)], '-.c')\n",
    "    plt.plot(t2_, res_q_, '-c', label='predict')\n",
    "    plt.xlabel(\"Time [s]\")\n",
    "    plt.ylabel(\"Angular degree [rad]\")\n",
    "    handles, labels = plt.gca().get_legend_handles_labels()\n",
    "    labels, ids = np.unique(labels, return_index=True)\n",
    "    handles = [handles[i] for i in ids]\n",
    "    plt.legend(handles, labels, loc='best')\n",
    "    plt.grid()\n",
    "    plt.savefig(\"../plots/ordinary/{}.jpg\".format(i), dpi=200)\n",
    "    plt.close()"
   ]
  },
  {
   "cell_type": "markdown",
   "metadata": {},
   "source": [
    "### Quantitative evaluation"
   ]
  },
  {
   "cell_type": "code",
   "execution_count": 12,
   "metadata": {},
   "outputs": [
    {
     "name": "stderr",
     "output_type": "stream",
     "text": [
      "\r",
      "  0%|                                                    | 0/12 [00:00<?, ?it/s]"
     ]
    },
    {
     "name": "stdout",
     "output_type": "stream",
     "text": [
      "The evidence is:  -280444421.57706714\n"
     ]
    },
    {
     "name": "stderr",
     "output_type": "stream",
     "text": [
      "\r",
      "  8%|███▋                                        | 1/12 [00:01<00:13,  1.19s/it]"
     ]
    },
    {
     "name": "stdout",
     "output_type": "stream",
     "text": [
      "The evidence is:  -261916032.6147036\n"
     ]
    },
    {
     "name": "stderr",
     "output_type": "stream",
     "text": [
      "\r",
      " 17%|███████▎                                    | 2/12 [00:02<00:10,  1.07s/it]"
     ]
    },
    {
     "name": "stdout",
     "output_type": "stream",
     "text": [
      "The evidence is:  -139174061.684537\n"
     ]
    },
    {
     "name": "stderr",
     "output_type": "stream",
     "text": [
      "\r",
      " 25%|███████████                                 | 3/12 [00:03<00:08,  1.01it/s]"
     ]
    },
    {
     "name": "stdout",
     "output_type": "stream",
     "text": [
      "The evidence is:  -64896034.28861807\n"
     ]
    },
    {
     "name": "stderr",
     "output_type": "stream",
     "text": [
      "\r",
      " 33%|██████████████▋                             | 4/12 [00:03<00:07,  1.05it/s]"
     ]
    },
    {
     "name": "stdout",
     "output_type": "stream",
     "text": [
      "The evidence is:  -42257033.419303246\n"
     ]
    },
    {
     "name": "stderr",
     "output_type": "stream",
     "text": [
      "\r",
      " 42%|██████████████████▎                         | 5/12 [00:04<00:06,  1.07it/s]"
     ]
    },
    {
     "name": "stdout",
     "output_type": "stream",
     "text": [
      "The evidence is:  -73075718.34544629\n"
     ]
    },
    {
     "name": "stderr",
     "output_type": "stream",
     "text": [
      "\r",
      " 50%|██████████████████████                      | 6/12 [00:05<00:05,  1.05it/s]"
     ]
    },
    {
     "name": "stdout",
     "output_type": "stream",
     "text": [
      "The evidence is:  -587465994.0293776\n"
     ]
    },
    {
     "name": "stderr",
     "output_type": "stream",
     "text": [
      "\r",
      " 58%|█████████████████████████▋                  | 7/12 [00:06<00:04,  1.07it/s]"
     ]
    },
    {
     "name": "stdout",
     "output_type": "stream",
     "text": [
      "The evidence is:  -10368529203.708344\n"
     ]
    },
    {
     "name": "stderr",
     "output_type": "stream",
     "text": [
      "\r",
      " 67%|█████████████████████████████▎              | 8/12 [00:07<00:03,  1.08it/s]"
     ]
    },
    {
     "name": "stdout",
     "output_type": "stream",
     "text": [
      "The evidence is:  -243278006222.58722\n"
     ]
    },
    {
     "name": "stderr",
     "output_type": "stream",
     "text": [
      "\r",
      " 75%|█████████████████████████████████           | 9/12 [00:08<00:02,  1.09it/s]"
     ]
    },
    {
     "name": "stdout",
     "output_type": "stream",
     "text": [
      "The evidence is:  -6244688157166.531\n"
     ]
    },
    {
     "name": "stderr",
     "output_type": "stream",
     "text": [
      "\r",
      " 83%|███████████████████████████████████▊       | 10/12 [00:09<00:01,  1.10it/s]"
     ]
    },
    {
     "name": "stdout",
     "output_type": "stream",
     "text": [
      "The evidence is:  -157468256995410.62\n"
     ]
    },
    {
     "name": "stderr",
     "output_type": "stream",
     "text": [
      "\r",
      " 92%|███████████████████████████████████████▍   | 11/12 [00:10<00:00,  1.11it/s]"
     ]
    },
    {
     "name": "stdout",
     "output_type": "stream",
     "text": [
      "The evidence is:  -3664936879498576.0\n"
     ]
    },
    {
     "name": "stderr",
     "output_type": "stream",
     "text": [
      "100%|███████████████████████████████████████████| 12/12 [00:11<00:00,  1.07it/s]\n"
     ]
    }
   ],
   "source": [
    "error_time_l, error_with_q_l, evidence_l = [], [], []\n",
    "import tqdm\n",
    "for oder in tqdm.tqdm(range(1,13)):\n",
    "#     clf = KernelRidge(kernel=RBF(length_scale=oder*0.2))\n",
    "#     clf.fit(X, Y)\n",
    "#     pred = clf.predict(Xv)\n",
    "    \n",
    "#     poly = PolynomialFeatures(oder)\n",
    "#     X_rr = poly.fit_transform(X)\n",
    "#     RR = Ridge(alpha=oder)\n",
    "#     RR.fit(X_rr,Y)\n",
    "#     Xv_rr = poly.fit_transform(Xv)\n",
    "#     pred = RR.predict(Xv_rr)\n",
    "    \n",
    "#     neigh = KNeighborsRegressor(n_neighbors=oder)\n",
    "#     neigh.fit(X, Y)\n",
    "#     pred = neigh.predict(Xv)\n",
    "\n",
    "    gpr = GaussianProcessRegressor(kernel=rbf(l=oder*0.2))\n",
    "    evidence = gpr.fit(X, Y)\n",
    "    pred = gpr.predict(Xv)\n",
    "    error_time, error_with_q = calc_loss(pred, Yv, Trueth, DMP_ORDER)\n",
    "    error_time_l.append(error_time)\n",
    "    error_with_q_l.append(error_with_q)\n",
    "    evidence_l.append(evidence)"
   ]
  },
  {
   "cell_type": "code",
   "execution_count": 13,
   "metadata": {},
   "outputs": [],
   "source": [
    "lbx = [-2,-2,-2,-2]\n",
    "ubx = [2, 2, 2, 2]"
   ]
  },
  {
   "cell_type": "code",
   "execution_count": 14,
   "metadata": {},
   "outputs": [
    {
     "name": "stdout",
     "output_type": "stream",
     "text": [
      "11\n"
     ]
    },
    {
     "data": {
      "text/plain": [
       "3.400247412810291"
      ]
     },
     "execution_count": 14,
     "metadata": {},
     "output_type": "execute_result"
    },
    {
     "data": {
      "image/png": "[encoded data removed]",
      "text/plain": [
       "<Figure size 432x288 with 1 Axes>"
      ]
     },
     "metadata": {
      "needs_background": "light"
     },
     "output_type": "display_data"
    }
   ],
   "source": [
    "plt.plot(range(1,13), error_with_q_l, '-b')\n",
    "print(np.argmin(error_with_q_l))\n",
    "error_with_q_l[11]"
   ]
  },
  {
   "cell_type": "code",
   "execution_count": 15,
   "metadata": {},
   "outputs": [
    {
     "name": "stdout",
     "output_type": "stream",
     "text": [
      "11\n"
     ]
    },
    {
     "data": {
      "text/plain": [
       "0.004111111111111113"
      ]
     },
     "execution_count": 15,
     "metadata": {},
     "output_type": "execute_result"
    },
    {
     "data": {
      "image/png": "[encoded data removed]",
      "text/plain": [
       "<Figure size 432x288 with 1 Axes>"
      ]
     },
     "metadata": {
      "needs_background": "light"
     },
     "output_type": "display_data"
    }
   ],
   "source": [
    "plt.plot(range(1,13), error_time_l, '-r')\n",
    "print(np.argmin(error_time_l))\n",
    "error_time_l[11]"
   ]
  },
  {
   "cell_type": "markdown",
   "metadata": {},
   "source": [
    "RR with poly feature:0.008 3.978  \n",
    "KRR with RBF kernel: 0.011 3.694  \n",
    "6NN: 0.005 3.528  \n",
    "GPR with RBF kernel: 0.0041 3.394"
   ]
  }
 ],
 "metadata": {
  "interpreter": {
   "hash": "1693e71b1e676b7db36e8ea231cc35abc12b6d7d12a2b67ce892dd2b5974e2c7"
  },
  "kernelspec": {
   "display_name": "abb",
   "language": "python",
   "name": "abb"
  },
  "language_info": {
   "codemirror_mode": {
    "name": "ipython",
    "version": 3
   },
   "file_extension": ".py",
   "mimetype": "text/x-python",
   "name": "python",
   "nbconvert_exporter": "python",
   "pygments_lexer": "ipython3",
   "version": "3.9.11"
  }
 },
 "nbformat": 4,
 "nbformat_minor": 4
}
