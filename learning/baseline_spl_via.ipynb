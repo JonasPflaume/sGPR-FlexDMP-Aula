{
 "cells": [
  {
   "cell_type": "code",
   "execution_count": 1,
   "metadata": {},
   "outputs": [],
   "source": [
    "import numpy as np\n",
    "import sys, os, h5py, re\n",
    "import matplotlib.pyplot as plt\n",
    "from learning_utils import prepare_data_via, calc_loss_spl_via, spline_reconstruct_via\n",
    "from check_dyn import plot_res"
   ]
  },
  {
   "cell_type": "code",
   "execution_count": 2,
   "metadata": {},
   "outputs": [],
   "source": [
    "# just for dyna error calc\n",
    "from casadi_kinodynamics.utils import symbolic_robot\n",
    "sym_robot = symbolic_robot.symbolic_robot(robot_name='IRB910_2r', tool_mass=0.0,\n",
    "                                                tool_frame=[0., 0., 0.3, 0., 0., 0.], load_casadi_fnc=False)"
   ]
  },
  {
   "cell_type": "code",
   "execution_count": 3,
   "metadata": {},
   "outputs": [],
   "source": [
    "from algpr.gpr import GaussianProcessRegressor\n",
    "from algpr.gpoegpr import GpoeGPR\n",
    "from algpr.kernels import RBF as rbf\n",
    "from trajencoder.bspline.bspline import CubicSpline, Order5Spline, QuinticSpline, Order7spline, Order8spline\n",
    "from trajencoder.flexdmp.flexdmp import FlexDMP"
   ]
  },
  {
   "cell_type": "code",
   "execution_count": 4,
   "metadata": {},
   "outputs": [],
   "source": [
    "SPL_KNOTS = 20\n",
    "DMP_ORDER = 25"
   ]
  },
  {
   "cell_type": "markdown",
   "metadata": {},
   "source": [
    "## Full gpr"
   ]
  },
  {
   "cell_type": "markdown",
   "metadata": {},
   "source": [
    "The rate of dyna violation:  59.25925925925925 %  \n",
    "The peak dyna violation:  [33.38533121  0.        ]  \n",
    "Peak dyna violation occurs at:  [38.  0.]  \n",
    "Time error: 0.0055, Shape error: 0.047, Dyna error: 0.7426565"
   ]
  },
  {
   "cell_type": "code",
   "execution_count": 5,
   "metadata": {},
   "outputs": [],
   "source": [
    "X, Y, _ = prepare_data_via(\"../data/training/2-dof-no-velocity/training_SPL40_D8.hdf5\", spline=QuinticSpline, knots=SPL_KNOTS)"
   ]
  },
  {
   "cell_type": "code",
   "execution_count": 6,
   "metadata": {},
   "outputs": [
    {
     "data": {
      "text/plain": [
       "(3136, 4)"
      ]
     },
     "execution_count": 6,
     "metadata": {},
     "output_type": "execute_result"
    }
   ],
   "source": [
    "X.shape"
   ]
  },
  {
   "cell_type": "code",
   "execution_count": 7,
   "metadata": {},
   "outputs": [
    {
     "name": "stdout",
     "output_type": "stream",
     "text": [
      "The evidence is:  -20099160926821.28\n"
     ]
    }
   ],
   "source": [
    "gpr = GaussianProcessRegressor(kernel=rbf(l=np.array([2.]*4), anisotropic=True))\n",
    "gpr.fit(X, Y, call_hyper_opt=False)\n",
    "\n",
    "Xv, Yv, Trueth, qd_trueth, qdd_trueth = \\\n",
    "        prepare_data_via(\"../data/training/2-dof-no-velocity/training_SPL40_D4.hdf5\", spline=QuinticSpline, return_dyddy=True, knots=SPL_KNOTS)"
   ]
  },
  {
   "cell_type": "code",
   "execution_count": 11,
   "metadata": {},
   "outputs": [
    {
     "name": "stdout",
     "output_type": "stream",
     "text": [
      "The rate of dyna violation:  58.333333333333336 %\n",
      "The peak dyna violation:  [11.00767716  0.        ]\n",
      "Peak dyna violation occurs at:  [129.   0.]\n",
      "Time error: 0.0000, Shape error: 0.000, Dyna error: 0.1626152\n"
     ]
    }
   ],
   "source": [
    "pred = gpr.predict(Xv)\n",
    "pred = Yv\n",
    "error_time, error_with_q, error_dyna = calc_loss_spl_via(pred, Xv, Yv, Trueth, Order8spline, SPL_ORDER=SPL_KNOTS, \\\n",
    "            return_dyn_loss=True, tau_func=sym_robot.ck.get_inverse_dynamics_rnea(), tau_max=sym_robot.tau_max)\n",
    "print(\"Time error: {0:.4f}, Shape error: {1:.3f}, Dyna error: {2:.7f}\".format(error_time, error_with_q, error_dyna))"
   ]
  },
  {
   "cell_type": "markdown",
   "metadata": {},
   "source": [
    "## Gpoe gpr"
   ]
  },
  {
   "cell_type": "code",
   "execution_count": 12,
   "metadata": {},
   "outputs": [
    {
     "name": "stdout",
     "output_type": "stream",
     "text": [
      "The evidence is:  -6947790864094.85\n",
      "The evidence is:  -6943669366535.346\n",
      "Fitting finished, there are 2 gpr regressor were created!\n",
      "The rate of dyna violation:  53.47222222222222 %\n",
      "The peak dyna violation:  [38.6859351  0.       ]\n",
      "Peak dyna violation occurs at:  [26.  0.]\n",
      "Time error: 0.0034, Shape error: 0.046, Dyna error: 0.6293808\n"
     ]
    }
   ],
   "source": [
    "gpr_ = GpoeGPR(kernel=rbf(l=np.array([2.1]*4), anisotropic=True), max_subset_num=1700)\n",
    "gpr_.fit(X, Y, style='local', call_hyper_opt=False)\n",
    "\n",
    "Xv, Yv, Trueth, qd_trueth, qdd_trueth = \\\n",
    "        prepare_data_via(\"../data/training/2-dof-no-velocity/training_SPL40_D4.hdf5\", spline=QuinticSpline, return_dyddy=True, knots=SPL_KNOTS)\n",
    "\n",
    "pred_, var_ = gpr_.predict(Xv)\n",
    "error_time, error_with_q, error_dyna = calc_loss_spl_via(pred_, Xv, Yv, Trueth, Order8spline, SPL_ORDER=SPL_KNOTS, \\\n",
    "            return_dyn_loss=True, tau_func=sym_robot.ck.get_inverse_dynamics_rnea(), tau_max=sym_robot.tau_max)\n",
    "print(\"Time error: {0:.4f}, Shape error: {1:.3f}, Dyna error: {2:.7f}\".format(error_time, error_with_q, error_dyna))"
   ]
  },
  {
   "cell_type": "markdown",
   "metadata": {},
   "source": [
    "### Running speed test"
   ]
  },
  {
   "cell_type": "code",
   "execution_count": 13,
   "metadata": {},
   "outputs": [
    {
     "name": "stdout",
     "output_type": "stream",
     "text": [
      "1.5186214447021484 ms per run.\n"
     ]
    }
   ],
   "source": [
    "from time import time\n",
    "start = time()\n",
    "for _ in range(100):\n",
    "    pred_, var_ = gpr_.predict(Xv[0:1,:])\n",
    "end = time()\n",
    "print((end - start)*10, 'ms', 'per run.')"
   ]
  },
  {
   "cell_type": "code",
   "execution_count": 14,
   "metadata": {},
   "outputs": [
    {
     "data": {
      "text/plain": [
       "(1, 41)"
      ]
     },
     "execution_count": 14,
     "metadata": {},
     "output_type": "execute_result"
    }
   ],
   "source": [
    "pred_.shape"
   ]
  },
  {
   "cell_type": "code",
   "execution_count": 15,
   "metadata": {},
   "outputs": [
    {
     "name": "stderr",
     "output_type": "stream",
     "text": [
      "\n",
      "KeyboardInterrupt\n",
      "\n"
     ]
    },
    {
     "name": "stdout",
     "output_type": "stream",
     "text": [
      "Error in callback <function flush_figures at 0x7f897ef99d30> (for post_execute):\n"
     ]
    },
    {
     "name": "stderr",
     "output_type": "stream",
     "text": [
      "\n",
      "KeyboardInterrupt\n",
      "\n"
     ]
    }
   ],
   "source": [
    "tau_func = sym_robot.ck.get_inverse_dynamics_rnea()\n",
    "\n",
    "for index in range(0, len(pred)):\n",
    "    plot_res(tau_func, sym_robot.tau_max, sym_robot.q_max, sym_robot.q_min, sym_robot.qd_max, sym_robot.qdd_max,\\\n",
    "                 index, pred, Xv, Yv, Trueth, qd_trueth, qdd_trueth, spline=Order7spline, SPL_KNOTS=SPL_KNOTS)"
   ]
  }
 ],
 "metadata": {
  "kernelspec": {
   "display_name": "abb",
   "language": "python",
   "name": "abb"
  },
  "language_info": {
   "codemirror_mode": {
    "name": "ipython",
    "version": 3
   },
   "file_extension": ".py",
   "mimetype": "text/x-python",
   "name": "python",
   "nbconvert_exporter": "python",
   "pygments_lexer": "ipython3",
   "version": "3.9.11"
  }
 },
 "nbformat": 4,
 "nbformat_minor": 4
}
