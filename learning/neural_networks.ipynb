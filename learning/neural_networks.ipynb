{
 "cells": [
  {
   "cell_type": "code",
   "execution_count": 29,
   "metadata": {},
   "outputs": [],
   "source": [
    "import numpy as np\n",
    "import sys, os, h5py, re\n",
    "from trajencoder.flexdmp.flexdmp import FlexDMP\n",
    "import matplotlib.pyplot as plt\n",
    "from learning_utils import prepare_data_flexdmp, DMP_reconstruct, calc_loss_flexdmp"
   ]
  },
  {
   "cell_type": "code",
   "execution_count": 30,
   "metadata": {},
   "outputs": [],
   "source": [
    "import torch as th\n",
    "from torch.optim import Adam\n",
    "from network import MLP, setParams\n",
    "import matplotlib.pyplot as plt\n",
    "from tqdm import tqdm\n",
    "\n",
    "device = th.device('cuda' if th.cuda.is_available() else 'cpu')"
   ]
  },
  {
   "cell_type": "code",
   "execution_count": 31,
   "metadata": {},
   "outputs": [
    {
     "data": {
      "text/plain": [
       "torch.Size([12100, 4])"
      ]
     },
     "execution_count": 31,
     "metadata": {},
     "output_type": "execute_result"
    }
   ],
   "source": [
    "DMP_ORDER = 30\n",
    "X, Y, _ = prepare_data_flexdmp(\"../data/training_D11_N30.hdf5\", FlexDMP, DMP_ORDER=DMP_ORDER)\n",
    "X, Y = th.from_numpy(X).float().to(device), th.from_numpy(Y).float().to(device)\n",
    "\n",
    "Xv, Yv, Trueth, qd_trueth, qdd_trueth = prepare_data_flexdmp(\"../data/validating_D4_N30.hdf5\", FlexDMP, DMP_ORDER=DMP_ORDER, return_dyddy=True)\n",
    "Xv, Yv = th.from_numpy(Xv).float().to(device), th.from_numpy(Yv).float().to(device)\n",
    "X.shape"
   ]
  },
  {
   "cell_type": "code",
   "execution_count": 32,
   "metadata": {},
   "outputs": [],
   "source": [
    "net = MLP(4, 61).to(device)\n",
    "optimizer = Adam(setParams(net, 1e-4), lr = 5e-4)\n",
    "MSE = th.nn.MSELoss()"
   ]
  },
  {
   "cell_type": "code",
   "execution_count": 43,
   "metadata": {},
   "outputs": [
    {
     "name": "stderr",
     "output_type": "stream",
     "text": [
      "100%|█████████████████████████████████████████| 500/500 [00:43<00:00, 11.37it/s]\n"
     ]
    }
   ],
   "source": [
    "n_epochs = 500\n",
    "batch_size = 256\n",
    "val = []\n",
    "train = []\n",
    "\n",
    "for epoch in tqdm(range(n_epochs)):\n",
    "    permutation = th.randperm(X.size()[0])\n",
    "    train_loss = 0.\n",
    "    vali_loss = 0.\n",
    "    epo_length = len(list(range(0, X.size()[0], batch_size)))\n",
    "    for i in range(0, X.size()[0], batch_size):\n",
    "        optimizer.zero_grad()\n",
    "        indices = permutation[i:i+batch_size]\n",
    "        batch_x, batch_y = X[indices], Y[indices]\n",
    "        outputs = net(batch_x)\n",
    "        loss = MSE(outputs, batch_y)\n",
    "        loss.backward()\n",
    "        optimizer.step()\n",
    "        train_loss += loss.item()\n",
    "    with th.no_grad():\n",
    "        net.eval()\n",
    "        pred = net(Xv)\n",
    "        vali_loss = MSE(pred, Yv)\n",
    "        net.train()\n",
    "    val.append(vali_loss)\n",
    "    train.append(train_loss/epo_length)"
   ]
  },
  {
   "cell_type": "code",
   "execution_count": 44,
   "metadata": {},
   "outputs": [
    {
     "data": {
      "text/plain": [
       "[<matplotlib.lines.Line2D at 0x7fbbba2db1c0>]"
      ]
     },
     "execution_count": 44,
     "metadata": {},
     "output_type": "execute_result"
    },
    {
     "data": {
      "image/png": "[encoded data removed]",
      "text/plain": [
       "<Figure size 432x288 with 1 Axes>"
      ]
     },
     "metadata": {
      "needs_background": "light"
     },
     "output_type": "display_data"
    }
   ],
   "source": [
    "plt.plot(val, '-b')\n",
    "plt.plot(train, '-r')"
   ]
  },
  {
   "cell_type": "code",
   "execution_count": 45,
   "metadata": {},
   "outputs": [],
   "source": [
    "pred = pred.detach().cpu().numpy()\n",
    "Xv_ = Xv.detach().cpu().numpy()\n",
    "Yv_ = Yv.detach().cpu().numpy()"
   ]
  },
  {
   "cell_type": "markdown",
   "metadata": {},
   "source": [
    "6NN: 0.005 3.528 under D7 datasets!!"
   ]
  },
  {
   "cell_type": "code",
   "execution_count": 46,
   "metadata": {},
   "outputs": [],
   "source": [
    "# just for dyna error calc\n",
    "from casadi_kinodynamics.utils import symbolic_robot\n",
    "sym_robot = symbolic_robot.symbolic_robot(robot_name='IRB910_2r', tool_mass=0.0,\n",
    "                                                tool_frame=[0., 0., 0.3, 0., 0., 0.], load_casadi_fnc=False)"
   ]
  },
  {
   "cell_type": "code",
   "execution_count": 47,
   "metadata": {},
   "outputs": [
    {
     "name": "stdout",
     "output_type": "stream",
     "text": [
      "The rate of dyna violation:  35.41666666666667 %\n",
      "The peak dyna violation:  [100.10011177   0.        ]\n",
      "Peak dyna violation occurs at:  [109.   0.]\n",
      "0.11399999999999993 0.10011093237811249 0.9905618204747415\n"
     ]
    }
   ],
   "source": [
    "error_time, error_target_q, error_dyn_loss, dyna_info = calc_loss_flexdmp(pred, Xv_, Yv_, Trueth, DMP_ORDER, \\\n",
    "                 return_dyn_loss=True, return_dyn_info=True, tau_func=sym_robot.ck.get_inverse_dynamics_rnea(), tau_max=sym_robot.tau_max)\n",
    "print(error_time, error_target_q, error_dyn_loss)"
   ]
  }
 ],
 "metadata": {
  "kernelspec": {
   "display_name": "abb",
   "language": "python",
   "name": "abb"
  },
  "language_info": {
   "codemirror_mode": {
    "name": "ipython",
    "version": 3
   },
   "file_extension": ".py",
   "mimetype": "text/x-python",
   "name": "python",
   "nbconvert_exporter": "python",
   "pygments_lexer": "ipython3",
   "version": "3.9.11"
  }
 },
 "nbformat": 4,
 "nbformat_minor": 4
}
