{
 "cells": [
  {
   "cell_type": "code",
   "execution_count": 1,
   "metadata": {},
   "outputs": [],
   "source": [
    "import torch as th\n",
    "from torch.nn import functional as F\n",
    "from torch.optim import Adam\n",
    "import numpy as np\n",
    "import tqdm\n",
    "from networks import Encoder, Decoder, Model\n",
    "from dataset_augment import augment_data\n",
    "device = th.device('cuda' if th.cuda.is_available() else 'cpu')\n",
    "\n",
    "def vae_loss(x, x_hat, mean, log_var):\n",
    "    ''' reproduction error plus KL divergence\n",
    "    '''\n",
    "    reproduction_loss = F.mse_loss(x, x_hat)\n",
    "    KLD               = - 0.5 * th.sum(1 + log_var - mean.pow(2) - log_var.exp()) # 1 + log_var = k + log det(Sigma(X))\n",
    "    return 10000*reproduction_loss + KLD"
   ]
  },
  {
   "cell_type": "code",
   "execution_count": 2,
   "metadata": {},
   "outputs": [],
   "source": [
    "data_path_1 = '../../../data/optimal_data_3150.hdf5'\n",
    "data_path_2 = '../../../data/training/2-dof-no-velocity/training_SPL40_D8.hdf5'\n",
    "X1 = augment_data(data_path_1)\n",
    "X2 = augment_data(data_path_2)\n",
    "X = np.concatenate([X1, X2])\n",
    "data_len, input_dim = X.shape\n",
    "X = th.from_numpy(X).to(device).float()"
   ]
  },
  {
   "cell_type": "code",
   "execution_count": 3,
   "metadata": {},
   "outputs": [
    {
     "data": {
      "text/plain": [
       "torch.Size([6286, 141])"
      ]
     },
     "execution_count": 3,
     "metadata": {},
     "output_type": "execute_result"
    }
   ],
   "source": [
    "X.shape"
   ]
  },
  {
   "cell_type": "code",
   "execution_count": 4,
   "metadata": {},
   "outputs": [],
   "source": [
    "hidden_dim = 70\n",
    "latent_dim = 30"
   ]
  },
  {
   "cell_type": "code",
   "execution_count": 18,
   "metadata": {},
   "outputs": [],
   "source": [
    "encoder = Encoder(input_dim, hidden_dim, latent_dim)\n",
    "decoder = Decoder(latent_dim, hidden_dim, output_dim=input_dim)\n",
    "model = Model(encoder, decoder).to(device)\n",
    "optimizer = Adam(model.parameters(), lr=5e-4)"
   ]
  },
  {
   "cell_type": "code",
   "execution_count": 19,
   "metadata": {},
   "outputs": [],
   "source": [
    "n_epochs = 200\n",
    "batch_size = 20\n",
    "val = []\n",
    "train = []"
   ]
  },
  {
   "cell_type": "code",
   "execution_count": 42,
   "metadata": {},
   "outputs": [
    {
     "name": "stderr",
     "output_type": "stream",
     "text": [
      "train loss: 91893.47: 100%|██████████| 200/200 [03:26<00:00,  1.03s/it]\n"
     ]
    }
   ],
   "source": [
    "model.train()\n",
    "call = tqdm.tqdm(range(n_epochs))\n",
    "train_loss = float('inf')\n",
    "for epoch in call:\n",
    "    call.set_description(\"train loss: {:.2f}\".format(train_loss))\n",
    "    permutation = th.randperm(X.size()[0])\n",
    "    train_loss = 0.\n",
    "    epo_length = len(list(range(0, X.size()[0], batch_size)))\n",
    "    for i in range(0, X.size()[0], batch_size):\n",
    "        optimizer.zero_grad()\n",
    "        indices = permutation[i:i+batch_size]\n",
    "        batch_x = X[indices]\n",
    "        x_hat, mean, log_var = model(batch_x)\n",
    "        loss = vae_loss(batch_x, x_hat, mean, log_var)\n",
    "        loss.backward()\n",
    "        optimizer.step()\n",
    "        train_loss += loss.item()"
   ]
  },
  {
   "cell_type": "code",
   "execution_count": 21,
   "metadata": {},
   "outputs": [],
   "source": [
    "import matplotlib.pyplot as plt"
   ]
  },
  {
   "cell_type": "code",
   "execution_count": 98,
   "metadata": {},
   "outputs": [
    {
     "data": {
      "image/png": "[encoded data removed]",
      "text/plain": [
       "<Figure size 432x288 with 1 Axes>"
      ]
     },
     "metadata": {
      "needs_background": "light"
     },
     "output_type": "display_data"
    }
   ],
   "source": [
    "model.eval()\n",
    "with th.no_grad():\n",
    "    permutation = th.randperm(X.size()[0])\n",
    "    for i in range(0, 2):\n",
    "        optimizer.zero_grad()\n",
    "        indices = permutation[i:i+batch_size]\n",
    "        batch_x = X[indices]\n",
    "        traj, _, _ = model(batch_x)\n",
    "    \n",
    "    traj = traj[0].detach().cpu().numpy()\n",
    "    q, t = traj[:140].reshape(-1,2), traj[-1]\n",
    "    plt.plot(q, '-r', label=\"decoded\")\n",
    "    batch_x = batch_x.detach().cpu().numpy()\n",
    "    plt.plot(batch_x[0,:-1].reshape(-1,2), '-b', label=\"trueth\")\n",
    "    plt.xlabel(\"decoding viapoints\")\n",
    "    plt.grid()\n",
    "    plt.xlabel(\"Time steps\")\n",
    "    plt.ylabel(\"angular\")\n",
    "    handles, labels = plt.gca().get_legend_handles_labels()\n",
    "    labels, ids = np.unique(labels, return_index=True)\n",
    "    handles = [handles[i] for i in ids]\n",
    "    plt.legend(handles, labels, loc='best')\n",
    "    plt.savefig(\"/home/jiayun/Desktop/3.jpg\", dpi=150)"
   ]
  }
 ],
 "metadata": {
  "interpreter": {
   "hash": "1693e71b1e676b7db36e8ea231cc35abc12b6d7d12a2b67ce892dd2b5974e2c7"
  },
  "kernelspec": {
   "display_name": "Python 3",
   "language": "python",
   "name": "python3"
  },
  "language_info": {
   "codemirror_mode": {
    "name": "ipython",
    "version": 3
   },
   "file_extension": ".py",
   "mimetype": "text/x-python",
   "name": "python",
   "nbconvert_exporter": "python",
   "pygments_lexer": "ipython3",
   "version": "3.6.9"
  }
 },
 "nbformat": 4,
 "nbformat_minor": 4
}
