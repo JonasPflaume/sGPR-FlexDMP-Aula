{
 "cells": [
  {
   "cell_type": "code",
   "execution_count": 1,
   "source": [
    "import torch\n",
    "from torch.nn import functional as F\n",
    "from torch.optim import Adam\n",
    "import numpy as np\n",
    "import tqdm\n",
    "from networks import Encoder, Decoder, Model\n",
    "device = torch.device('cuda' if torch.cuda.is_available() else 'cpu')\n",
    "\n",
    "def vae_loss(x, x_hat, mean, log_var):\n",
    "    ''' reproduction error plus KL divergence\n",
    "    '''\n",
    "    reproduction_loss = F.binary_cross_entropy(x_hat, x, reduction='sum')\n",
    "    KLD               = - 0.5 * torch.sum(1 + log_var - mean.pow(2) - log_var.exp()) # 1 + log_var = k + log det(Sigma(X))\n",
    "    return reproduction_loss + KLD"
   ],
   "outputs": [],
   "metadata": {}
  },
  {
   "cell_type": "code",
   "execution_count": 2,
   "source": [
    "import torchvision.datasets as datasets\n",
    "import matplotlib.pyplot as plt"
   ],
   "outputs": [],
   "metadata": {}
  },
  {
   "cell_type": "code",
   "execution_count": 3,
   "source": [
    "mnist_trainset = datasets.MNIST(root='./data', train=True, download=True, transform=None)\n",
    "X = mnist_trainset.data\n",
    "X = X.float()\n",
    "X /= 255.\n",
    "X = X.to(device)"
   ],
   "outputs": [],
   "metadata": {}
  },
  {
   "cell_type": "code",
   "execution_count": 4,
   "source": [
    "X.shape"
   ],
   "outputs": [
    {
     "output_type": "execute_result",
     "data": {
      "text/plain": [
       "torch.Size([60000, 28, 28])"
      ]
     },
     "metadata": {},
     "execution_count": 4
    }
   ],
   "metadata": {}
  },
  {
   "cell_type": "code",
   "execution_count": 5,
   "source": [
    "hidden_dim = 400\n",
    "latent_dim = 200\n",
    "input_dim = 28 * 28"
   ],
   "outputs": [],
   "metadata": {}
  },
  {
   "cell_type": "code",
   "execution_count": 6,
   "source": [
    "encoder = Encoder(input_dim, hidden_dim, latent_dim)\n",
    "decoder = Decoder(latent_dim, hidden_dim, output_dim=input_dim)\n",
    "model = Model(encoder, decoder).to(device)\n",
    "optimizer = Adam(model.parameters(), lr=5e-4)"
   ],
   "outputs": [],
   "metadata": {}
  },
  {
   "cell_type": "code",
   "execution_count": 7,
   "source": [
    "n_epochs = 10\n",
    "batch_size = 64\n",
    "val = []\n",
    "train = []"
   ],
   "outputs": [],
   "metadata": {}
  },
  {
   "cell_type": "code",
   "execution_count": 31,
   "source": [
    "model.train()\n",
    "call = tqdm.tqdm(range(n_epochs))\n",
    "train_loss = float('inf')\n",
    "for epoch in call:\n",
    "    call.set_description(\"train loss: {:.2f}\".format(train_loss))\n",
    "    permutation = torch.randperm(X.size()[0])\n",
    "    train_loss = 0.\n",
    "    epo_length = len(list(range(0, X.size()[0], batch_size)))\n",
    "    for i in range(0, X.size()[0] - batch_size, batch_size):\n",
    "        optimizer.zero_grad()\n",
    "        indices = permutation[i:i+batch_size]\n",
    "        batch_x = X[indices]\n",
    "        batch_x = batch_x.reshape(64,-1)\n",
    "        x_hat, mean, log_var = model(batch_x)\n",
    "        loss = vae_loss(batch_x, x_hat, mean, log_var)\n",
    "        loss.backward()\n",
    "        optimizer.step()\n",
    "        train_loss += loss.item()"
   ],
   "outputs": [
    {
     "output_type": "stream",
     "name": "stderr",
     "text": [
      "train loss: 6085470.08: 100%|██████████| 10/10 [00:28<00:00,  2.86s/it]\n"
     ]
    }
   ],
   "metadata": {}
  },
  {
   "cell_type": "code",
   "execution_count": 38,
   "source": [
    "z = torch.randn(200).to(device).float()\n",
    "x_hat = model.Decoder(z)"
   ],
   "outputs": [],
   "metadata": {}
  },
  {
   "cell_type": "code",
   "execution_count": 39,
   "source": [
    "x_hat = x_hat.detach().cpu().numpy() * 255"
   ],
   "outputs": [],
   "metadata": {}
  },
  {
   "cell_type": "code",
   "execution_count": 40,
   "source": [
    "plt.imshow(x_hat.reshape(28,28))"
   ],
   "outputs": [
    {
     "output_type": "execute_result",
     "data": {
      "text/plain": [
       "<matplotlib.image.AxesImage at 0x7f4933109b80>"
      ]
     },
     "metadata": {},
     "execution_count": 40
    },
    {
     "output_type": "display_data",
     "data": {
      "image/png": "[encoded data removed]",
      "text/plain": [
       "<Figure size 432x288 with 1 Axes>"
      ]
     },
     "metadata": {
      "needs_background": "light"
     }
    }
   ],
   "metadata": {}
  }
 ],
 "metadata": {
  "interpreter": {
   "hash": "1693e71b1e676b7db36e8ea231cc35abc12b6d7d12a2b67ce892dd2b5974e2c7"
  },
  "kernelspec": {
   "name": "python3",
   "display_name": "Python 3.9.11 64-bit ('abb': venv)"
  },
  "language_info": {
   "codemirror_mode": {
    "name": "ipython",
    "version": 3
   },
   "file_extension": ".py",
   "mimetype": "text/x-python",
   "name": "python",
   "nbconvert_exporter": "python",
   "pygments_lexer": "ipython3",
   "version": "3.9.11"
  }
 },
 "nbformat": 4,
 "nbformat_minor": 4
}